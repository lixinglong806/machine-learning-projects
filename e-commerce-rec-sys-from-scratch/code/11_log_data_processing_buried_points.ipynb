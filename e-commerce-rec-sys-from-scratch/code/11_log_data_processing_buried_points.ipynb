{
 "cells": [
  {
   "cell_type": "markdown",
   "metadata": {},
   "source": [
    "## Tracking Log Data Processing\n",
    "\n",
    "#### Tracking Logs\n",
    "\n",
    "Tracking refers to collecting specific information during certain processes in an application to monitor usage, which can later be used to optimize the product or provide operational data support. For example, tracking logs serve as key data for enabling personalized recommendations.\n",
    "\n",
    "There are two mainstream tracking methods:\n",
    "\n",
    "- **Self-developed**: Embedding custom code in the product for data collection and building corresponding back-end systems for querying and processing.\n",
    "- **Third-party platforms**: Using third-party analytics tools such as Umeng, Baidu Mobile Analytics, etc.\n",
    "\n",
    "**Types of tracking logs:**\n",
    "\n",
    "- **Impression logs**: When a product is displayed on a page, it is considered an impression. Impression logs record this event each time a product is displayed.\n",
    "  - Impression time  \n",
    "  - Impression scene  \n",
    "  - Unique user ID  \n",
    "  - Product ID  \n",
    "  - Product category ID  \n",
    "\n",
    "- **Clickstream logs**: Records of user actions such as browsing, favoriting, adding to cart, purchasing, commenting, and searching.\n",
    "  - Impression time (corresponding to impression log)  \n",
    "  - Impression scene (corresponding to impression log)  \n",
    "  - Unique user ID  \n",
    "  - Action time  \n",
    "  - Action type  \n",
    "  - Product ID  \n",
    "  - Product category ID  \n",
    "  - Dwell time (browsing)  \n",
    "  - Rating (comment)  \n",
    "  - Search query (search)  \n",
    "\n",
    "#### Significance of Tracking Logs\n",
    "\n",
    "**User behavior and preference analysis**  \n",
    "- Analyzing clickstream logs to capture behavioral features of individual or group users, and predicting user preferences.\n",
    "\n",
    "**Statistical metrics analysis**  \n",
    "- **Click-through rate (CTR):** Probability of an item being clicked. Formula: *clicks / impressions*. For example, if a product is displayed 100 times and clicked 10 times, CTR = 10%.  \n",
    "- **Bounce rate:** When a user visits one page but performs no further actions, it counts as a bounce. Formula: *single-page visits / total visits*.  \n",
    "  - Overall bounce rate (for an entire section/app).  \n",
    "  - Single-page bounce rate. For example, if 100 users visited a page, and 10 of them left without any further interaction, the bounce rate is 10%.  \n",
    "- **Conversion rate:** In e-commerce, conversion rate = *number of completed orders / number of product visits*. For example, if a product has 100 visits but only 5 result in orders, its conversion rate is 5%.  \n",
    "\n",
    "**Note:** The “visits” in bounce rate and conversion rate refer to **unique user visits**. Unique user visits are not equal to the total number of distinct users. For example, if User A visits Product 1 on January 1 and again on January 2, Product 1’s visit count is 2, not 1."
   ]
  },
  {
   "cell_type": "code",
   "execution_count": 1,
   "metadata": {},
   "outputs": [],
   "source": [
    "import logging#log：记录\n",
    "\n",
    "def get_logger(logger_name, path, level):\n",
    "    \n",
    "    # 创建logger\n",
    "    logger = logging.getLogger(logger_name)\n",
    "    # level:  OFF、FATAL、ERROR、WARN、INFO、DEBUG、ALL或者自己定义的级别\n",
    "    logger.setLevel(level)\n",
    "\n",
    "    # 创建formatter\n",
    "    # %(asctime)s: 打印日志的时间\n",
    "    # %(message)s: 打印日志信息\n",
    "    fmt = '%(asctime)s: %(message)s'\n",
    "    datefmt = '%Y/%m/%d %H:%M:%S'\n",
    "    formatter = logging.Formatter(fmt,datefmt)\n",
    "\n",
    "    # 创建handler\n",
    "    # FileHandler：writes formatted logging records to disk files\n",
    "    handler = logging.FileHandler(path)\n",
    "    handler.setLevel(level)\n",
    "\n",
    "    # 添加handler和formatter 到 logger\n",
    "    handler.setFormatter(formatter)\n",
    "    logger.addHandler(handler)\n",
    "\n",
    "    return logger"
   ]
  },
  {
   "cell_type": "code",
   "execution_count": 14,
   "metadata": {},
   "outputs": [],
   "source": [
    "import time \n",
    "import logging\n",
    "\n",
    "exposure_logger = get_logger('exposure','/root/workspace/3.rs_project/project2/meiduoSourceCode/logs/exposure.log',\\\n",
    "                             logging.DEBUG)\n",
    "# 曝光日志\n",
    "exposure_timesteamp = time.time()\n",
    "exposure_loc = 'detail'\n",
    "uid = 1\n",
    "sku_id = 1\n",
    "cate_id = 1\n"
   ]
  },
  {
   "cell_type": "code",
   "execution_count": 15,
   "metadata": {},
   "outputs": [],
   "source": [
    "exposure_logger.info(\"exposure_timesteamp<%d> exposure_loc<%s> uid<%d> sku_id<%d> cate_id<%d>\"\\\n",
    "                     %(exposure_timesteamp, exposure_loc, uid, sku_id, cate_id))"
   ]
  },
  {
   "cell_type": "code",
   "execution_count": 16,
   "metadata": {
    "scrolled": true
   },
   "outputs": [
    {
     "name": "stdout",
     "output_type": "stream",
     "text": [
      "2020/12/23 21:16:43:exposure_timesteamp<1608729319> exposure_loc<detail> uid<1> sku_id<1> cate_id<1>\r\n",
      "2020/12/23 21:21:21:exposure_timesteamp<1608729679> exposure_loc<detail> uid<1> sku_id<1> cate_id<1>\r\n",
      "2020/12/23 21:21:21: exposure_timesteamp<1608729679> exposure_loc<detail> uid<1> sku_id<1> cate_id<1>\r\n",
      "2020/12/24 11:09:20: exposure_timesteamp<1608779359> exposure_loc<detail> uid<1> sku_id<1> cate_id<1>\r\n",
      "2020/12/24 11:09:20: exposure_timesteamp<1608779359> exposure_loc<detail> uid<1> sku_id<1> cate_id<1>\r\n"
     ]
    }
   ],
   "source": [
    "# 每运行上条指令一次，就会在log中记录一条信息\n",
    "# 显示最后五条信息\n",
    "!cat /root/workspace/3.rs_project/project2/meiduoSourceCode/logs/exposure.log | tail -5"
   ]
  },
  {
   "cell_type": "code",
   "execution_count": 17,
   "metadata": {},
   "outputs": [],
   "source": [
    "import time\n",
    "import logging\n",
    "click_trace_logger = get_logger('click_trace','/root/workspace/3.rs_project/project2/meiduoSourceCode/logs/click_trace.log',\\\n",
    "                               logging.DEBUG)"
   ]
  },
  {
   "cell_type": "code",
   "execution_count": 18,
   "metadata": {},
   "outputs": [],
   "source": [
    "# 点击流日志\n",
    "exposure_timesteamp = exposure_timesteamp\n",
    "exposure_loc = exposure_loc\n",
    "timesteamp = time.time()\n",
    "behavior = 'pv' # pv fav cart buy\n",
    "uid = 1\n",
    "sku_id = 1\n",
    "cate_id = 1\n",
    "stay_time = 60\n",
    "# 假设某点击流日志记录格式如下：\n",
    "click_trace_logger.info(\"exposure_timesteamp<%d> exposure_loc<%s> timesteamp<%d> behavior<%s> uid<%d> sku_id<%d> cate_id<%d> stay_time<%d>\"\\\n",
    "                        %(exposure_timesteamp, exposure_loc, timesteamp, behavior, uid, sku_id, cate_id, stay_time))\n"
   ]
  },
  {
   "cell_type": "code",
   "execution_count": 19,
   "metadata": {
    "scrolled": true
   },
   "outputs": [
    {
     "name": "stdout",
     "output_type": "stream",
     "text": [
      "2018/11/30 03:20:24: exposure_timesteamp<1543519181> exposure_loc<detail> timesteamp<1543519224> behavior<pv> uid<1> sku_id<1> cate_id<1> stay_time<60>\r\n",
      "2018/11/30 11:54:45: exposure_timesteamp<1543519181> exposure_loc<detail> timesteamp<1543550085> behavior<pv> uid<1> sku_id<1> cate_id<1> stay_time<60>\r\n",
      "2018/11/30 11:54:45: exposure_timesteamp<1543519181> exposure_loc<detail> timesteamp<1543550085> behavior<pv> uid<1> sku_id<1> cate_id<1> stay_time<60>\r\n",
      "2018/11/30 13:17:16: exposure_timesteamp<1543519181> exposure_loc<detail> timesteamp<1543555036> behavior<pv> uid<1> sku_id<1> cate_id<1> stay_time<60>\r\n",
      "2018/11/30 13:17:16: exposure_timesteamp<1543519181> exposure_loc<detail> timesteamp<1543555036> behavior<pv> uid<1> sku_id<1> cate_id<1> stay_time<60>\r\n",
      "2018/11/30 13:17:16: exposure_timesteamp<1543519181> exposure_loc<detail> timesteamp<1543555036> behavior<pv> uid<1> sku_id<1> cate_id<1> stay_time<60>\r\n",
      "2018/11/30 13:18:16: exposure_timesteamp<1543555093> exposure_loc<detail> timesteamp<1543555096> behavior<pv> uid<1> sku_id<1> cate_id<1> stay_time<60>\r\n",
      "2018/11/30 13:18:16: exposure_timesteamp<1543555093> exposure_loc<detail> timesteamp<1543555096> behavior<pv> uid<1> sku_id<1> cate_id<1> stay_time<60>\r\n",
      "2018/11/30 13:18:16: exposure_timesteamp<1543555093> exposure_loc<detail> timesteamp<1543555096> behavior<pv> uid<1> sku_id<1> cate_id<1> stay_time<60>\r\n",
      "2018/11/30 13:18:16: exposure_timesteamp<1543555093> exposure_loc<detail> timesteamp<1543555096> behavior<pv> uid<1> sku_id<1> cate_id<1> stay_time<60>\r\n",
      "2018/11/30 13:20:28: exposure_timesteamp<1543555093> exposure_loc<detail> timesteamp<1543555228> behavior<pv> uid<1> sku_id<1> cate_id<1> stay_time<60>\r\n",
      "2018/11/30 13:20:28: exposure_timesteamp<1543555093> exposure_loc<detail> timesteamp<1543555228> behavior<pv> uid<1> sku_id<1> cate_id<1> stay_time<60>\r\n",
      "2018/11/30 13:20:28: exposure_timesteamp<1543555093> exposure_loc<detail> timesteamp<1543555228> behavior<pv> uid<1> sku_id<1> cate_id<1> stay_time<60>\r\n",
      "2018/11/30 13:20:28: exposure_timesteamp<1543555093> exposure_loc<detail> timesteamp<1543555228> behavior<pv> uid<1> sku_id<1> cate_id<1> stay_time<60>\r\n",
      "2018/11/30 13:20:28: exposure_timesteamp<1543555093> exposure_loc<detail> timesteamp<1543555228> behavior<pv> uid<1> sku_id<1> cate_id<1> stay_time<60>\r\n",
      "2018/11/30 13:21:08: exposure_timesteamp<1543555093> exposure_loc<detail> timesteamp<1543555268> behavior<pv> uid<1> sku_id<1> cate_id<1> stay_time<60>\r\n",
      "2018/11/30 13:21:08: exposure_timesteamp<1543555093> exposure_loc<detail> timesteamp<1543555268> behavior<pv> uid<1> sku_id<1> cate_id<1> stay_time<60>\r\n",
      "2018/11/30 13:21:08: exposure_timesteamp<1543555093> exposure_loc<detail> timesteamp<1543555268> behavior<pv> uid<1> sku_id<1> cate_id<1> stay_time<60>\r\n",
      "2018/11/30 13:21:08: exposure_timesteamp<1543555093> exposure_loc<detail> timesteamp<1543555268> behavior<pv> uid<1> sku_id<1> cate_id<1> stay_time<60>\r\n",
      "2018/11/30 13:21:08: exposure_timesteamp<1543555093> exposure_loc<detail> timesteamp<1543555268> behavior<pv> uid<1> sku_id<1> cate_id<1> stay_time<60>\r\n",
      "2018/11/30 13:21:08: exposure_timesteamp<1543555093> exposure_loc<detail> timesteamp<1543555268> behavior<pv> uid<1> sku_id<1> cate_id<1> stay_time<60>\r\n",
      "2018/11/30 13:28:37: exposure_timesteamp<1543555093> exposure_loc<detail> timesteamp<1543555717> behavior<pv> uid<1> sku_id<1> cate_id<1> stay_time<60>\r\n",
      "2018/11/30 13:28:37: exposure_timesteamp<1543555093> exposure_loc<detail> timesteamp<1543555717> behavior<pv> uid<1> sku_id<1> cate_id<1> stay_time<60>\r\n",
      "2018/11/30 13:28:37: exposure_timesteamp<1543555093> exposure_loc<detail> timesteamp<1543555717> behavior<pv> uid<1> sku_id<1> cate_id<1> stay_time<60>\r\n",
      "2018/11/30 13:28:37: exposure_timesteamp<1543555093> exposure_loc<detail> timesteamp<1543555717> behavior<pv> uid<1> sku_id<1> cate_id<1> stay_time<60>\r\n",
      "2018/11/30 13:28:37: exposure_timesteamp<1543555093> exposure_loc<detail> timesteamp<1543555717> behavior<pv> uid<1> sku_id<1> cate_id<1> stay_time<60>\r\n",
      "2018/11/30 13:28:37: exposure_timesteamp<1543555093> exposure_loc<detail> timesteamp<1543555717> behavior<pv> uid<1> sku_id<1> cate_id<1> stay_time<60>\r\n",
      "2018/11/30 13:28:37: exposure_timesteamp<1543555093> exposure_loc<detail> timesteamp<1543555717> behavior<pv> uid<1> sku_id<1> cate_id<1> stay_time<60>\r\n",
      "2018/12/01 01:48:13: exposure_timesteamp<1543600079> exposure_loc<detail> timesteamp<1543600093> behavior<pv> uid<1> sku_id<1> cate_id<1> stay_time<60>\r\n",
      "2018/12/01 01:49:24: exposure_timesteamp<1543600079> exposure_loc<detail> timesteamp<1543600093> behavior<pv> uid<1> sku_id<1> cate_id<1> stay_time<60>\r\n",
      "2018/12/01 01:52:56: exposure_timesteamp<1543600373> exposure_loc<detail> timesteamp<1543600375> behavior<pv> uid<1> sku_id<1> cate_id<1> stay_time<60>\r\n",
      "2018/12/01 01:55:14: exposure_timesteamp<1543600373> exposure_loc<detail> timesteamp<1543600375> behavior<pv> uid<1> sku_id<1> cate_id<1> stay_time<60>\r\n",
      "2018/12/01 01:57:50: exposure_timesteamp<1543600666> exposure_loc<detail> timesteamp<1543600669> behavior<pv> uid<1> sku_id<1> cate_id<1> stay_time<60>\r\n",
      "2018/12/01 02:17:30: exposure_timesteamp<1543601846> exposure_loc<detail> timesteamp<1543601850> behavior<pv> uid<1> sku_id<1> cate_id<1> stay_time<60>\r\n",
      "2018/12/01 02:17:30: exposure_timesteamp<1543601846> exposure_loc<detail> timesteamp<1543601850> behavior<pv> uid<1> sku_id<1> cate_id<1> stay_time<60>\r\n",
      "2018/12/01 02:17:54: exposure_timesteamp<1543601846> exposure_loc<detail> timesteamp<1543601850> behavior<pv> uid<1> sku_id<1> cate_id<1> stay_time<60>\r\n",
      "2018/12/01 02:17:54: exposure_timesteamp<1543601846> exposure_loc<detail> timesteamp<1543601850> behavior<pv> uid<1> sku_id<1> cate_id<1> stay_time<60>\r\n",
      "2018/12/01 02:18:06: exposure_timesteamp<1543601846> exposure_loc<detail> timesteamp<1543601850> behavior<pv> uid<1> sku_id<1> cate_id<1> stay_time<60>\r\n",
      "2018/12/01 02:18:06: exposure_timesteamp<1543601846> exposure_loc<detail> timesteamp<1543601850> behavior<pv> uid<1> sku_id<1> cate_id<1> stay_time<60>\r\n",
      "2018/12/01 02:20:28: exposure_timesteamp<1543601846> exposure_loc<detail> timesteamp<1543601850> behavior<pv> uid<1> sku_id<1> cate_id<1> stay_time<60>\r\n",
      "2018/12/01 02:20:28: exposure_timesteamp<1543601846> exposure_loc<detail> timesteamp<1543601850> behavior<pv> uid<1> sku_id<1> cate_id<1> stay_time<60>\r\n",
      "2018/12/01 02:20:50: exposure_timesteamp<1543601846> exposure_loc<detail> timesteamp<1543602050> behavior<pv> uid<1> sku_id<1> cate_id<1> stay_time<60>\r\n",
      "2018/12/01 02:20:50: exposure_timesteamp<1543601846> exposure_loc<detail> timesteamp<1543602050> behavior<pv> uid<1> sku_id<1> cate_id<1> stay_time<60>\r\n",
      "2018/12/01 02:25:39: exposure_timesteamp<1543601846> exposure_loc<detail> timesteamp<1543602339> behavior<pv> uid<1> sku_id<1> cate_id<1> stay_time<60>\r\n",
      "2018/12/01 02:25:39: exposure_timesteamp<1543601846> exposure_loc<detail> timesteamp<1543602339> behavior<pv> uid<1> sku_id<1> cate_id<1> stay_time<60>\r\n",
      "2018/12/01 02:25:49: exposure_timesteamp<1543601846> exposure_loc<detail> timesteamp<1543602349> behavior<pv> uid<1> sku_id<1> cate_id<1> stay_time<60>\r\n",
      "2018/12/01 02:25:49: exposure_timesteamp<1543601846> exposure_loc<detail> timesteamp<1543602349> behavior<pv> uid<1> sku_id<1> cate_id<1> stay_time<60>\r\n",
      "2018/12/01 02:27:44: exposure_timesteamp<1543601846> exposure_loc<detail> timesteamp<1543602464> behavior<pv> uid<1> sku_id<1> cate_id<1> stay_time<60>\r\n",
      "2018/12/01 02:27:44: exposure_timesteamp<1543601846> exposure_loc<detail> timesteamp<1543602464> behavior<pv> uid<1> sku_id<1> cate_id<1> stay_time<60>\r\n",
      "2018/12/01 02:27:46: exposure_timesteamp<1543601846> exposure_loc<detail> timesteamp<1543602466> behavior<pv> uid<1> sku_id<1> cate_id<1> stay_time<60>\r\n",
      "2018/12/01 02:27:46: exposure_timesteamp<1543601846> exposure_loc<detail> timesteamp<1543602466> behavior<pv> uid<1> sku_id<1> cate_id<1> stay_time<60>\r\n",
      "2018/12/01 02:27:48: exposure_timesteamp<1543601846> exposure_loc<detail> timesteamp<1543602468> behavior<pv> uid<1> sku_id<1> cate_id<1> stay_time<60>\r\n",
      "2018/12/01 02:27:48: exposure_timesteamp<1543601846> exposure_loc<detail> timesteamp<1543602468> behavior<pv> uid<1> sku_id<1> cate_id<1> stay_time<60>\r\n",
      "2018/12/01 02:30:54: exposure_timesteamp<1543601846> exposure_loc<detail> timesteamp<1543602654> behavior<pv> uid<1> sku_id<1> cate_id<1> stay_time<60>\r\n",
      "2018/12/01 02:30:54: exposure_timesteamp<1543601846> exposure_loc<detail> timesteamp<1543602654> behavior<pv> uid<1> sku_id<1> cate_id<1> stay_time<60>\r\n",
      "2018/12/01 02:30:56: exposure_timesteamp<1543601846> exposure_loc<detail> timesteamp<1543602656> behavior<pv> uid<1> sku_id<1> cate_id<1> stay_time<60>\r\n",
      "2018/12/01 02:30:56: exposure_timesteamp<1543601846> exposure_loc<detail> timesteamp<1543602656> behavior<pv> uid<1> sku_id<1> cate_id<1> stay_time<60>\r\n",
      "2018/12/01 02:31:37: exposure_timesteamp<1543601846> exposure_loc<detail> timesteamp<1543602697> behavior<pv> uid<1> sku_id<1> cate_id<1> stay_time<60>\r\n",
      "2018/12/01 02:31:37: exposure_timesteamp<1543601846> exposure_loc<detail> timesteamp<1543602697> behavior<pv> uid<1> sku_id<1> cate_id<1> stay_time<60>\r\n",
      "2018/12/01 02:31:39: exposure_timesteamp<1543601846> exposure_loc<detail> timesteamp<1543602699> behavior<pv> uid<1> sku_id<1> cate_id<1> stay_time<60>\r\n",
      "2018/12/01 02:31:39: exposure_timesteamp<1543601846> exposure_loc<detail> timesteamp<1543602699> behavior<pv> uid<1> sku_id<1> cate_id<1> stay_time<60>\r\n",
      "2018/12/01 02:33:08: exposure_timesteamp<1543601846> exposure_loc<detail> timesteamp<1543602788> behavior<pv> uid<1> sku_id<1> cate_id<1> stay_time<60>\r\n",
      "2018/12/01 02:33:08: exposure_timesteamp<1543601846> exposure_loc<detail> timesteamp<1543602788> behavior<pv> uid<1> sku_id<1> cate_id<1> stay_time<60>\r\n",
      "2018/12/01 02:33:20: exposure_timesteamp<1543601846> exposure_loc<detail> timesteamp<1543602800> behavior<pv> uid<1> sku_id<1> cate_id<1> stay_time<60>\r\n",
      "2018/12/01 02:33:20: exposure_timesteamp<1543601846> exposure_loc<detail> timesteamp<1543602800> behavior<pv> uid<1> sku_id<1> cate_id<1> stay_time<60>\r\n",
      "2018/12/01 02:33:26: exposure_timesteamp<1543601846> exposure_loc<detail> timesteamp<1543602806> behavior<pv> uid<1> sku_id<1> cate_id<1> stay_time<60>\r\n",
      "2018/12/01 02:33:26: exposure_timesteamp<1543601846> exposure_loc<detail> timesteamp<1543602806> behavior<pv> uid<1> sku_id<1> cate_id<1> stay_time<60>\r\n",
      "2018/12/01 02:34:28: exposure_timesteamp<1543601846> exposure_loc<detail> timesteamp<1543602868> behavior<pv> uid<1> sku_id<1> cate_id<1> stay_time<60>\r\n",
      "2018/12/01 02:34:28: exposure_timesteamp<1543601846> exposure_loc<detail> timesteamp<1543602868> behavior<pv> uid<1> sku_id<1> cate_id<1> stay_time<60>\r\n",
      "2018/12/01 02:34:29: exposure_timesteamp<1543601846> exposure_loc<detail> timesteamp<1543602869> behavior<pv> uid<1> sku_id<1> cate_id<1> stay_time<60>\r\n",
      "2018/12/01 02:34:29: exposure_timesteamp<1543601846> exposure_loc<detail> timesteamp<1543602869> behavior<pv> uid<1> sku_id<1> cate_id<1> stay_time<60>\r\n",
      "2018/12/01 02:34:30: exposure_timesteamp<1543601846> exposure_loc<detail> timesteamp<1543602870> behavior<pv> uid<1> sku_id<1> cate_id<1> stay_time<60>\r\n",
      "2018/12/01 02:34:30: exposure_timesteamp<1543601846> exposure_loc<detail> timesteamp<1543602870> behavior<pv> uid<1> sku_id<1> cate_id<1> stay_time<60>\r\n",
      "2018/12/01 02:34:31: exposure_timesteamp<1543601846> exposure_loc<detail> timesteamp<1543602871> behavior<pv> uid<1> sku_id<1> cate_id<1> stay_time<60>\r\n",
      "2018/12/01 02:34:31: exposure_timesteamp<1543601846> exposure_loc<detail> timesteamp<1543602871> behavior<pv> uid<1> sku_id<1> cate_id<1> stay_time<60>\r\n",
      "2018/12/01 02:35:13: exposure_timesteamp<1543601846> exposure_loc<detail> timesteamp<1543602913> behavior<pv> uid<1> sku_id<1> cate_id<1> stay_time<60>\r\n",
      "2018/12/01 02:35:13: exposure_timesteamp<1543601846> exposure_loc<detail> timesteamp<1543602913> behavior<pv> uid<1> sku_id<1> cate_id<1> stay_time<60>\r\n",
      "2018/12/01 02:35:14: exposure_timesteamp<1543601846> exposure_loc<detail> timesteamp<1543602914> behavior<pv> uid<1> sku_id<1> cate_id<1> stay_time<60>\r\n",
      "2018/12/01 02:35:14: exposure_timesteamp<1543601846> exposure_loc<detail> timesteamp<1543602914> behavior<pv> uid<1> sku_id<1> cate_id<1> stay_time<60>\r\n",
      "2018/12/01 02:35:15: exposure_timesteamp<1543601846> exposure_loc<detail> timesteamp<1543602915> behavior<pv> uid<1> sku_id<1> cate_id<1> stay_time<60>\r\n",
      "2018/12/01 02:35:15: exposure_timesteamp<1543601846> exposure_loc<detail> timesteamp<1543602915> behavior<pv> uid<1> sku_id<1> cate_id<1> stay_time<60>\r\n",
      "2018/12/01 02:37:10: exposure_timesteamp<1543601846> exposure_loc<detail> timesteamp<1543603030> behavior<pv> uid<1> sku_id<1> cate_id<1> stay_time<60>\r\n",
      "2018/12/01 02:37:10: exposure_timesteamp<1543601846> exposure_loc<detail> timesteamp<1543603030> behavior<pv> uid<1> sku_id<1> cate_id<1> stay_time<60>\r\n",
      "2018/12/01 02:37:11: exposure_timesteamp<1543601846> exposure_loc<detail> timesteamp<1543603031> behavior<pv> uid<1> sku_id<1> cate_id<1> stay_time<60>\r\n",
      "2018/12/01 02:37:11: exposure_timesteamp<1543601846> exposure_loc<detail> timesteamp<1543603031> behavior<pv> uid<1> sku_id<1> cate_id<1> stay_time<60>\r\n",
      "2018/12/01 02:37:13: exposure_timesteamp<1543601846> exposure_loc<detail> timesteamp<1543603033> behavior<pv> uid<1> sku_id<1> cate_id<1> stay_time<60>\r\n",
      "2018/12/01 02:37:13: exposure_timesteamp<1543601846> exposure_loc<detail> timesteamp<1543603033> behavior<pv> uid<1> sku_id<1> cate_id<1> stay_time<60>\r\n",
      "2018/12/01 02:38:24: exposure_timesteamp<1543603102> exposure_loc<detail> timesteamp<1543603104> behavior<pv> uid<1> sku_id<1> cate_id<1> stay_time<60>\r\n",
      "2018/12/01 02:38:26: exposure_timesteamp<1543603102> exposure_loc<detail> timesteamp<1543603106> behavior<pv> uid<1> sku_id<1> cate_id<1> stay_time<60>\r\n",
      "2018/12/01 02:38:27: exposure_timesteamp<1543603102> exposure_loc<detail> timesteamp<1543603107> behavior<pv> uid<1> sku_id<1> cate_id<1> stay_time<60>\r\n",
      "2018/12/01 02:38:28: exposure_timesteamp<1543603102> exposure_loc<detail> timesteamp<1543603108> behavior<pv> uid<1> sku_id<1> cate_id<1> stay_time<60>\r\n",
      "2018/12/01 02:40:29: exposure_timesteamp<1543603102> exposure_loc<detail> timesteamp<1543603229> behavior<pv> uid<1> sku_id<1> cate_id<1> stay_time<60>\r\n",
      "2018/12/01 02:40:31: exposure_timesteamp<1543603102> exposure_loc<detail> timesteamp<1543603231> behavior<pv> uid<1> sku_id<1> cate_id<1> stay_time<60>\r\n",
      "2018/12/01 02:41:56: exposure_timesteamp<1543603102> exposure_loc<detail> timesteamp<1543603316> behavior<pv> uid<1> sku_id<1> cate_id<1> stay_time<60>\r\n",
      "2018/12/01 02:41:57: exposure_timesteamp<1543603102> exposure_loc<detail> timesteamp<1543603317> behavior<pv> uid<1> sku_id<1> cate_id<1> stay_time<60>\r\n",
      "2018/12/01 02:43:18: exposure_timesteamp<1543603102> exposure_loc<detail> timesteamp<1543603398> behavior<pv> uid<1> sku_id<1> cate_id<1> stay_time<60>\r\n",
      "2018/12/01 02:43:19: exposure_timesteamp<1543603102> exposure_loc<detail> timesteamp<1543603399> behavior<pv> uid<1> sku_id<1> cate_id<1> stay_time<60>\r\n",
      "2018/12/01 02:43:20: exposure_timesteamp<1543603102> exposure_loc<detail> timesteamp<1543603400> behavior<pv> uid<1> sku_id<1> cate_id<1> stay_time<60>\r\n",
      "2018/12/01 02:43:21: exposure_timesteamp<1543603102> exposure_loc<detail> timesteamp<1543603401> behavior<pv> uid<1> sku_id<1> cate_id<1> stay_time<60>\r\n",
      "2018/12/01 13:13:28: exposure_timesteamp<1543641203> exposure_loc<detail> timesteamp<1543641208> behavior<pv> uid<1> sku_id<1> cate_id<1> stay_time<60>\r\n",
      "2018/12/01 13:16:01: exposure_timesteamp<1543641203> exposure_loc<detail> timesteamp<1543641361> behavior<pv> uid<1> sku_id<1> cate_id<1> stay_time<60>\r\n",
      "2018/12/01 13:16:03: exposure_timesteamp<1543641203> exposure_loc<detail> timesteamp<1543641363> behavior<pv> uid<1> sku_id<1> cate_id<1> stay_time<60>\r\n",
      "2020/12/23 21:32:33: exposure_timesteamp<1608729679> exposure_loc<detail> timesteamp<1608730353> behavior<pv> uid<1> sku_id<1> cate_id<1> stay_time<60>\r\n",
      "2020/12/24 11:09:22: exposure_timesteamp<1608779359> exposure_loc<detail> timesteamp<1608779362> behavior<pv> uid<1> sku_id<1> cate_id<1> stay_time<60>\r\n",
      "2020/12/24 11:09:22: exposure_timesteamp<1608779359> exposure_loc<detail> timesteamp<1608779362> behavior<pv> uid<1> sku_id<1> cate_id<1> stay_time<60>\r\n"
     ]
    }
   ],
   "source": [
    "!cat /root/workspace/3.rs_project/project2/meiduoSourceCode/logs/click_trace.log"
   ]
  },
  {
   "cell_type": "markdown",
   "metadata": {},
   "source": [
    "#### Flume Log Collection\n"
   ]
  },
  {
   "cell_type": "code",
   "execution_count": 20,
   "metadata": {},
   "outputs": [
    {
     "name": "stdout",
     "output_type": "stream",
     "text": [
      "Found 2 items\r\n",
      "drwxr-xr-x   - root supergroup          0 2020-12-24 08:55 /meiduo_mall/logs/click-trace\r\n",
      "drwxr-xr-x   - root supergroup          0 2020-12-23 22:31 /meiduo_mall/logs/click_trace\r\n"
     ]
    }
   ],
   "source": [
    "!hadoop fs -ls /meiduo_mall/logs"
   ]
  },
  {
   "cell_type": "code",
   "execution_count": 21,
   "metadata": {},
   "outputs": [
    {
     "data": {
      "text/plain": [
       "[('exposure_timesteamp', '1543601846'),\n",
       " ('exposure_loc', 'detail'),\n",
       " ('timesteamp', '1543602913'),\n",
       " ('behavior', 'pv'),\n",
       " ('uid', '1'),\n",
       " ('sku_id', '1'),\n",
       " ('cate_id', '1'),\n",
       " ('stay_time', '60')]"
      ]
     },
     "execution_count": 21,
     "metadata": {},
     "output_type": "execute_result"
    }
   ],
   "source": [
    "import re\n",
    "s = '2018/12/01 02:35:13: exposure_timesteamp<1543601846> exposure_loc<detail> timesteamp<1543602913> behavior<pv> uid<1> sku_id<1> cate_id<1> stay_time<60>'\n",
    "\n",
    "match = re.search(\"\\\n",
    "exposure_timesteamp<(?P<exposure_timesteamp>.*?)> \\\n",
    "exposure_loc<(?P<exposure_loc>.*?)> \\\n",
    "timesteamp<(?P<timesteamp>.*?)> \\\n",
    "behavior<(?P<behavior>.*?)> \\\n",
    "uid<(?P<uid>.*?)> \\\n",
    "sku_id<(?P<sku_id>.*?)> \\\n",
    "cate_id<(?P<cate_id>.*?)> \\\n",
    "stay_time<(?P<stay_time>.*?)>\", s)\n",
    "\n",
    "result = []\n",
    "if match:\n",
    "    result.append((\"exposure_timesteamp\", match.group(\"exposure_timesteamp\")))\n",
    "    result.append((\"exposure_loc\", match.group(\"exposure_loc\")))\n",
    "    result.append((\"timesteamp\", match.group(\"timesteamp\")))\n",
    "    result.append((\"behavior\", match.group(\"behavior\")))\n",
    "    result.append((\"uid\", match.group(\"uid\")))\n",
    "    result.append((\"sku_id\", match.group(\"sku_id\")))\n",
    "    result.append((\"cate_id\", match.group(\"cate_id\")))\n",
    "    result.append((\"stay_time\", match.group(\"stay_time\")))\n",
    "result"
   ]
  },
  {
   "cell_type": "code",
   "execution_count": null,
   "metadata": {},
   "outputs": [],
   "source": []
  }
 ],
 "metadata": {
  "kernelspec": {
   "display_name": "Python 3",
   "language": "python",
   "name": "python3"
  },
  "language_info": {
   "codemirror_mode": {
    "name": "ipython",
    "version": 3
   },
   "file_extension": ".py",
   "mimetype": "text/x-python",
   "name": "python",
   "nbconvert_exporter": "python",
   "pygments_lexer": "ipython3",
   "version": "3.7.6"
  }
 },
 "nbformat": 4,
 "nbformat_minor": 2
}
