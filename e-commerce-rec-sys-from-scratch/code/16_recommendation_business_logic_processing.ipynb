{
 "cells": [
  {
   "cell_type": "markdown",
   "metadata": {},
   "source": [
    "## Recommendation Business Processing\n",
    "\n",
    "Different recommendation results are generated based on different scenarios. For example, in the early stage of the website:\n",
    "\n",
    "- Homepage recommendations focus on popular and newly released items.  \n",
    "- Product detail page recommendations provide similar items.  \n",
    "- Shopping cart page recommendations suggest items similar to those already in the cart.  \n",
    "- Search page recommendations are based on the association with the search query.  \n",
    "\n",
    "In the later stage:  \n",
    "Each recommendation result can be further refined and personalized according to user profiles, enabling more accurate recommendations."
   ]
  },
  {
   "cell_type": "code",
   "execution_count": 2,
   "metadata": {},
   "outputs": [],
   "source": [
    "# 以网站初期详情页为例\n",
    "import redis\n",
    "client0 = redis.StrictRedis(db=0) # 0号库之前存的是每个sku 的相似sku们top100\n",
    "client1 = redis.StrictRedis(db=1) # 1 - 为每个用户推荐的商品集合\n",
    "\n",
    "def recommendedSystem(dest, **kwargs):\n",
    "    #离线计算出的相似物品推荐召回集\n",
    "    if dest == 'detail':\n",
    "        sku_id = kwargs.get(sku_id)\n",
    "        sim_skus = client0.zrevrange(sku_id, 0,19)#取出最相似的前20个物品\n",
    "        return sim_skus\n",
    "    # 实时计算出的用户个性化推荐召回集\n",
    "    if dest == 'cart':\n",
    "        uid = kwargs.get(uid)\n",
    "        sim_skus = client1.scan(uid)\n",
    "        return sim_skus"
   ]
  }
 ],
 "metadata": {
  "kernelspec": {
   "display_name": "Python 3",
   "language": "python",
   "name": "python3"
  },
  "language_info": {
   "codemirror_mode": {
    "name": "ipython",
    "version": 3
   },
   "file_extension": ".py",
   "mimetype": "text/x-python",
   "name": "python",
   "nbconvert_exporter": "python",
   "pygments_lexer": "ipython3",
   "version": "3.7.6"
  }
 },
 "nbformat": 4,
 "nbformat_minor": 2
}
