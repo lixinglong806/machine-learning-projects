{
 "cells": [
  {
   "cell_type": "code",
   "execution_count": 1,
   "metadata": {},
   "outputs": [],
   "source": [
    "import pandas as pd\n",
    "import numpy as np"
   ]
  },
  {
   "cell_type": "code",
   "execution_count": 2,
   "metadata": {
    "scrolled": false
   },
   "outputs": [],
   "source": [
    "train_data = pd.read_csv('./used_car_train_20200313.csv',sep=' ')\n",
    "test_data = pd.read_csv('./used_car_testB_20200421.csv', sep=' ')\n",
    "# 合并方便后面的操作\n",
    "df = pd.concat([train_data, test_data], ignore_index=True)\n",
    "# print(df.info())"
   ]
  },
  {
   "cell_type": "markdown",
   "metadata": {},
   "source": [
    "### 'price'为长尾分布，需要做数据转换"
   ]
  },
  {
   "cell_type": "code",
   "execution_count": 3,
   "metadata": {},
   "outputs": [
    {
     "name": "stderr",
     "output_type": "stream",
     "text": [
      "D:\\program\\anaconda3-2020.2\\envs\\TF2.1\\lib\\site-packages\\seaborn\\distributions.py:2557: FutureWarning: `distplot` is a deprecated function and will be removed in a future version. Please adapt your code to use either `displot` (a figure-level function with similar flexibility) or `histplot` (an axes-level function for histograms).\n",
      "  warnings.warn(msg, FutureWarning)\n"
     ]
    },
    {
     "data": {
      "text/plain": [
       "<AxesSubplot:>"
      ]
     },
     "execution_count": 3,
     "metadata": {},
     "output_type": "execute_result"
    },
    {
     "data": {
      "text/plain": [
       "<Figure size 432x288 with 0 Axes>"
      ]
     },
     "metadata": {},
     "output_type": "display_data"
    },
    {
     "data": {
      "image/png": "[encoded data removed]",
      "text/plain": [
       "<Figure size 720x216 with 2 Axes>"
      ]
     },
     "metadata": {
      "needs_background": "light"
     },
     "output_type": "display_data"
    }
   ],
   "source": [
    "import matplotlib.pyplot as plt\n",
    "import seaborn as sns\n",
    "plt.figure()\n",
    "plt.figure(figsize=(10, 3))\n",
    "plt.subplot(1, 2,1)\n",
    "sns.distplot(train_data['price'])\n",
    "plt.subplot(1,2,2)\n",
    "train_data['price'].plot.box()"
   ]
  },
  {
   "cell_type": "code",
   "execution_count": 5,
   "metadata": {},
   "outputs": [
    {
     "name": "stderr",
     "output_type": "stream",
     "text": [
      "D:\\program\\anaconda3-2020.2\\envs\\TF2.1\\lib\\site-packages\\seaborn\\distributions.py:2557: FutureWarning: `distplot` is a deprecated function and will be removed in a future version. Please adapt your code to use either `displot` (a figure-level function with similar flexibility) or `histplot` (an axes-level function for histograms).\n",
      "  warnings.warn(msg, FutureWarning)\n"
     ]
    },
    {
     "data": {
      "image/png": "[encoded data removed]",
      "text/plain": [
       "<Figure size 432x288 with 1 Axes>"
      ]
     },
     "metadata": {
      "needs_background": "light"
     },
     "output_type": "display_data"
    }
   ],
   "source": [
    "plt.figure()\n",
    "# log1p = log（x+1）\n",
    "sns.distplot(np.log1p(train_data['price']))\n",
    "# 'price'转化\n",
    "df['price'] = np.log1p(df['price'])"
   ]
  },
  {
   "cell_type": "code",
   "execution_count": 894,
   "metadata": {},
   "outputs": [],
   "source": [
    "# df['price']"
   ]
  },
  {
   "cell_type": "markdown",
   "metadata": {},
   "source": [
    "### 处理缺失值"
   ]
  },
  {
   "cell_type": "code",
   "execution_count": 895,
   "metadata": {},
   "outputs": [],
   "source": [
    "# # print(test_data)# 共50000\n",
    "# print(test_data.isnull().sum())\n",
    "# print('bodyType的缺失比例：',1504/50000)\n",
    "# print('fuelType的缺失比例：',2924/50000)\n",
    "# print('gearbox的缺失比例：',1968/50000)"
   ]
  },
  {
   "cell_type": "code",
   "execution_count": 896,
   "metadata": {},
   "outputs": [],
   "source": [
    "# # print(train_data)# 共150000 \n",
    "# print(train_data.isnull().sum())\n",
    "# print('bodyType的缺失比例：',4506/50000)\n",
    "# print('fuelType的缺失比例：',8680/50000)\n",
    "# print('gearbox的缺失比例：', 5981/50000)"
   ]
  },
  {
   "cell_type": "code",
   "execution_count": 897,
   "metadata": {},
   "outputs": [],
   "source": [
    "# '''有缺失的字段，缺失的比例\n",
    "# model  车型编码          1  \n",
    "# bodyType 车身类型 分类 3%    4506   \n",
    "# fuelType 燃油类型 分类5.8%   8680\n",
    "# gearbox  变速箱   分类3.9%     5981\n",
    "# 根据比例来看都可以填充，\n",
    "# '''"
   ]
  },
  {
   "cell_type": "code",
   "execution_count": 898,
   "metadata": {
    "scrolled": true
   },
   "outputs": [
    {
     "data": {
      "text/plain": [
       "SaleID                   0\n",
       "name                     0\n",
       "regDate                  0\n",
       "model                    0\n",
       "brand                    0\n",
       "bodyType                 0\n",
       "fuelType                 0\n",
       "gearbox                  0\n",
       "power                    0\n",
       "kilometer                0\n",
       "notRepairedDamage        0\n",
       "regionCode               0\n",
       "seller                   0\n",
       "offerType                0\n",
       "creatDate                0\n",
       "price                50000\n",
       "v_0                      0\n",
       "v_1                      0\n",
       "v_2                      0\n",
       "v_3                      0\n",
       "v_4                      0\n",
       "v_5                      0\n",
       "v_6                      0\n",
       "v_7                      0\n",
       "v_8                      0\n",
       "v_9                      0\n",
       "v_10                     0\n",
       "v_11                     0\n",
       "v_12                     0\n",
       "v_13                     0\n",
       "v_14                     0\n",
       "dtype: int64"
      ]
     },
     "execution_count": 898,
     "metadata": {},
     "output_type": "execute_result"
    }
   ],
   "source": [
    "# 众数填充model\n",
    "df.model.fillna(df.model.mode()[0],inplace=True)\n",
    "\n",
    "# 其余缺失字段都是分类型，使用-1填充\n",
    "for col in df.columns:\n",
    "    if col != \"price\":\n",
    "        df[col].fillna(-1,inplace=True) \n",
    "\n",
    "# 查看是否都填充完了\n",
    "df.isnull().sum()"
   ]
  },
  {
   "cell_type": "code",
   "execution_count": 899,
   "metadata": {},
   "outputs": [
    {
     "name": "stdout",
     "output_type": "stream",
     "text": [
      "0.0    148585\n",
      "-       32393\n",
      "1.0     19022\n",
      "Name: notRepairedDamage, dtype: int64\n",
      "0.16216\n",
      "0.0    148585\n",
      "-1      32393\n",
      "1.0     19022\n",
      "Name: notRepairedDamage, dtype: int64\n"
     ]
    }
   ],
   "source": [
    "# 先将此特征的缺失值用-1填充，以后对比删除此特征\n",
    "print(df['notRepairedDamage'].value_counts())\n",
    "'''\n",
    "汽车有尚未修复的损坏：是：0，否：1\n",
    "0.0    148585\n",
    "-       32393\n",
    "1.0     19022\n",
    "'''\n",
    "\n",
    "print(24324/150000)# 16%\n",
    "\n",
    "# 此处改进点：随机打乱，再填充\n",
    "df['notRepairedDamage'].replace('-','-1',inplace=True)\n",
    "\n",
    "print(df['notRepairedDamage'].value_counts())"
   ]
  },
  {
   "cell_type": "code",
   "execution_count": 900,
   "metadata": {},
   "outputs": [
    {
     "data": {
      "text/plain": [
       "0         0.0\n",
       "1        -1.0\n",
       "2         0.0\n",
       "3         0.0\n",
       "4         0.0\n",
       "         ... \n",
       "199995   -1.0\n",
       "199996    0.0\n",
       "199997    0.0\n",
       "199998    0.0\n",
       "199999    0.0\n",
       "Name: notRepairedDamage, Length: 200000, dtype: float64"
      ]
     },
     "execution_count": 900,
     "metadata": {},
     "output_type": "execute_result"
    }
   ],
   "source": [
    "df['notRepairedDamage'] = df['notRepairedDamage'].astype('float64')\n",
    "df['notRepairedDamage']"
   ]
  },
  {
   "cell_type": "code",
   "execution_count": 901,
   "metadata": {},
   "outputs": [
    {
     "data": {
      "text/plain": [
       "0         1850.0\n",
       "1         3600.0\n",
       "2         6222.0\n",
       "3         2400.0\n",
       "4         5200.0\n",
       "           ...  \n",
       "199995       NaN\n",
       "199996       NaN\n",
       "199997       NaN\n",
       "199998       NaN\n",
       "199999       NaN\n",
       "Name: price, Length: 200000, dtype: float64"
      ]
     },
     "execution_count": 901,
     "metadata": {},
     "output_type": "execute_result"
    }
   ],
   "source": [
    "df['price']"
   ]
  },
  {
   "cell_type": "markdown",
   "metadata": {},
   "source": [
    "### 处理异常值"
   ]
  },
  {
   "cell_type": "code",
   "execution_count": 902,
   "metadata": {},
   "outputs": [],
   "source": [
    "# print((train_data['power']>600).sum()/150000)\n",
    "# print((test_data['power']>600).sum()/50000)"
   ]
  },
  {
   "cell_type": "code",
   "execution_count": 903,
   "metadata": {},
   "outputs": [],
   "source": [
    "df['power'] = df['power'].map(lambda x: 600 if x>600 else x) #限定power<=600"
   ]
  },
  {
   "cell_type": "code",
   "execution_count": 904,
   "metadata": {
    "scrolled": true
   },
   "outputs": [
    {
     "name": "stderr",
     "output_type": "stream",
     "text": [
      "D:\\program\\anaconda3-2020.2\\envs\\TF2.1\\lib\\site-packages\\seaborn\\distributions.py:2557: FutureWarning: `distplot` is a deprecated function and will be removed in a future version. Please adapt your code to use either `displot` (a figure-level function with similar flexibility) or `histplot` (an axes-level function for histograms).\n",
      "  warnings.warn(msg, FutureWarning)\n",
      "D:\\program\\anaconda3-2020.2\\envs\\TF2.1\\lib\\site-packages\\seaborn\\distributions.py:2557: FutureWarning: `distplot` is a deprecated function and will be removed in a future version. Please adapt your code to use either `displot` (a figure-level function with similar flexibility) or `histplot` (an axes-level function for histograms).\n",
      "  warnings.warn(msg, FutureWarning)\n",
      "D:\\program\\anaconda3-2020.2\\envs\\TF2.1\\lib\\site-packages\\seaborn\\distributions.py:2557: FutureWarning: `distplot` is a deprecated function and will be removed in a future version. Please adapt your code to use either `displot` (a figure-level function with similar flexibility) or `histplot` (an axes-level function for histograms).\n",
      "  warnings.warn(msg, FutureWarning)\n",
      "D:\\program\\anaconda3-2020.2\\envs\\TF2.1\\lib\\site-packages\\seaborn\\distributions.py:2557: FutureWarning: `distplot` is a deprecated function and will be removed in a future version. Please adapt your code to use either `displot` (a figure-level function with similar flexibility) or `histplot` (an axes-level function for histograms).\n",
      "  warnings.warn(msg, FutureWarning)\n",
      "D:\\program\\anaconda3-2020.2\\envs\\TF2.1\\lib\\site-packages\\seaborn\\distributions.py:2557: FutureWarning: `distplot` is a deprecated function and will be removed in a future version. Please adapt your code to use either `displot` (a figure-level function with similar flexibility) or `histplot` (an axes-level function for histograms).\n",
      "  warnings.warn(msg, FutureWarning)\n",
      "D:\\program\\anaconda3-2020.2\\envs\\TF2.1\\lib\\site-packages\\seaborn\\distributions.py:2557: FutureWarning: `distplot` is a deprecated function and will be removed in a future version. Please adapt your code to use either `displot` (a figure-level function with similar flexibility) or `histplot` (an axes-level function for histograms).\n",
      "  warnings.warn(msg, FutureWarning)\n",
      "D:\\program\\anaconda3-2020.2\\envs\\TF2.1\\lib\\site-packages\\seaborn\\distributions.py:2557: FutureWarning: `distplot` is a deprecated function and will be removed in a future version. Please adapt your code to use either `displot` (a figure-level function with similar flexibility) or `histplot` (an axes-level function for histograms).\n",
      "  warnings.warn(msg, FutureWarning)\n",
      "D:\\program\\anaconda3-2020.2\\envs\\TF2.1\\lib\\site-packages\\seaborn\\distributions.py:2557: FutureWarning: `distplot` is a deprecated function and will be removed in a future version. Please adapt your code to use either `displot` (a figure-level function with similar flexibility) or `histplot` (an axes-level function for histograms).\n",
      "  warnings.warn(msg, FutureWarning)\n",
      "D:\\program\\anaconda3-2020.2\\envs\\TF2.1\\lib\\site-packages\\seaborn\\distributions.py:2557: FutureWarning: `distplot` is a deprecated function and will be removed in a future version. Please adapt your code to use either `displot` (a figure-level function with similar flexibility) or `histplot` (an axes-level function for histograms).\n",
      "  warnings.warn(msg, FutureWarning)\n",
      "D:\\program\\anaconda3-2020.2\\envs\\TF2.1\\lib\\site-packages\\seaborn\\distributions.py:2557: FutureWarning: `distplot` is a deprecated function and will be removed in a future version. Please adapt your code to use either `displot` (a figure-level function with similar flexibility) or `histplot` (an axes-level function for histograms).\n",
      "  warnings.warn(msg, FutureWarning)\n",
      "D:\\program\\anaconda3-2020.2\\envs\\TF2.1\\lib\\site-packages\\seaborn\\distributions.py:2557: FutureWarning: `distplot` is a deprecated function and will be removed in a future version. Please adapt your code to use either `displot` (a figure-level function with similar flexibility) or `histplot` (an axes-level function for histograms).\n",
      "  warnings.warn(msg, FutureWarning)\n",
      "D:\\program\\anaconda3-2020.2\\envs\\TF2.1\\lib\\site-packages\\seaborn\\distributions.py:2557: FutureWarning: `distplot` is a deprecated function and will be removed in a future version. Please adapt your code to use either `displot` (a figure-level function with similar flexibility) or `histplot` (an axes-level function for histograms).\n",
      "  warnings.warn(msg, FutureWarning)\n",
      "D:\\program\\anaconda3-2020.2\\envs\\TF2.1\\lib\\site-packages\\seaborn\\distributions.py:2557: FutureWarning: `distplot` is a deprecated function and will be removed in a future version. Please adapt your code to use either `displot` (a figure-level function with similar flexibility) or `histplot` (an axes-level function for histograms).\n",
      "  warnings.warn(msg, FutureWarning)\n",
      "D:\\program\\anaconda3-2020.2\\envs\\TF2.1\\lib\\site-packages\\seaborn\\distributions.py:2557: FutureWarning: `distplot` is a deprecated function and will be removed in a future version. Please adapt your code to use either `displot` (a figure-level function with similar flexibility) or `histplot` (an axes-level function for histograms).\n",
      "  warnings.warn(msg, FutureWarning)\n",
      "D:\\program\\anaconda3-2020.2\\envs\\TF2.1\\lib\\site-packages\\seaborn\\distributions.py:2557: FutureWarning: `distplot` is a deprecated function and will be removed in a future version. Please adapt your code to use either `displot` (a figure-level function with similar flexibility) or `histplot` (an axes-level function for histograms).\n",
      "  warnings.warn(msg, FutureWarning)\n",
      "D:\\program\\anaconda3-2020.2\\envs\\TF2.1\\lib\\site-packages\\seaborn\\distributions.py:2557: FutureWarning: `distplot` is a deprecated function and will be removed in a future version. Please adapt your code to use either `displot` (a figure-level function with similar flexibility) or `histplot` (an axes-level function for histograms).\n",
      "  warnings.warn(msg, FutureWarning)\n",
      "D:\\program\\anaconda3-2020.2\\envs\\TF2.1\\lib\\site-packages\\seaborn\\distributions.py:2557: FutureWarning: `distplot` is a deprecated function and will be removed in a future version. Please adapt your code to use either `displot` (a figure-level function with similar flexibility) or `histplot` (an axes-level function for histograms).\n",
      "  warnings.warn(msg, FutureWarning)\n",
      "D:\\program\\anaconda3-2020.2\\envs\\TF2.1\\lib\\site-packages\\seaborn\\distributions.py:2557: FutureWarning: `distplot` is a deprecated function and will be removed in a future version. Please adapt your code to use either `displot` (a figure-level function with similar flexibility) or `histplot` (an axes-level function for histograms).\n",
      "  warnings.warn(msg, FutureWarning)\n"
     ]
    },
    {
     "data": {
      "image/png": "[encoded data removed]",
      "text/plain": [
       "<Figure size 648x1296 with 18 Axes>"
      ]
     },
     "metadata": {
      "needs_background": "light"
     },
     "output_type": "display_data"
    }
   ],
   "source": [
    "num_fea = ['power', 'kilometer','price','v_0', 'v_1', 'v_2', 'v_3','v_4', 'v_5', 'v_6', 'v_7', 'v_8', 'v_9', 'v_10', 'v_11', 'v_12','v_13', 'v_14']\n",
    "f = pd.melt(train_data, value_vars=num_fea)\n",
    "g = sns.FacetGrid(f, col=\"variable\",  col_wrap=3, sharex=False, sharey=False)\n",
    "g = g.map(sns.distplot, \"value\")\n",
    "plt.tight_layout()"
   ]
  },
  {
   "cell_type": "code",
   "execution_count": 905,
   "metadata": {},
   "outputs": [],
   "source": [
    "# 对可分类的连续特征进行分桶，kilometer是已经分桶了\n",
    "bin = [-1]+[i*10 for i in range(1,61)]\n",
    "df['power_bin'] = pd.cut(df['power'], bin, labels=False)\n",
    "bin = [-1]+[i*10 for i in range(1,26)]\n",
    "df['model_bin'] = pd.cut(df['model'], bin, labels=False)"
   ]
  },
  {
   "cell_type": "code",
   "execution_count": 906,
   "metadata": {},
   "outputs": [],
   "source": [
    "df['name_count'] = df.groupby(['name'])['SaleID'].transform('count')"
   ]
  },
  {
   "cell_type": "code",
   "execution_count": 907,
   "metadata": {},
   "outputs": [],
   "source": [
    "# 删除没有用的列\n",
    "del df['name']\n",
    "del df['offerType']\n",
    "del df['seller']"
   ]
  },
  {
   "cell_type": "markdown",
   "metadata": {},
   "source": [
    "### 特征工程"
   ]
  },
  {
   "cell_type": "code",
   "execution_count": 908,
   "metadata": {},
   "outputs": [],
   "source": [
    "from datetime import datetime\n",
    "def date_process(x):\n",
    "    year = int(str(x)[:4])\n",
    "    month = int(str(x)[4:6])\n",
    "    day = int(str(x)[6:8])\n",
    "    if month < 1:\n",
    "        month = 1\n",
    "    date = datetime(year, month, day)\n",
    "    return date\n",
    "\n",
    "df['regDate'] = df['regDate'].apply(date_process)\n",
    "df['creatDate'] = df['creatDate'].apply(date_process)\n",
    "df['regDate_year'] = df['regDate'].dt.year\n",
    "df['regDate_month'] = df['regDate'].dt.month\n",
    "df['regDate_day'] = df['regDate'].dt.day\n",
    "df['creatDate_year'] = df['creatDate'].dt.year\n",
    "df['creatDate_month'] = df['creatDate'].dt.month\n",
    "df['creatDate_day'] = df['creatDate'].dt.day\n",
    "df['car_age_day'] = (df['creatDate'] - df['regDate']).dt.days#二手车使用天数\n",
    "df['car_age_year'] = round(df['car_age_day'] / 365, 1)#二手车使用年数"
   ]
  },
  {
   "cell_type": "code",
   "execution_count": 909,
   "metadata": {
    "scrolled": true
   },
   "outputs": [
    {
     "name": "stdout",
     "output_type": "stream",
     "text": [
      "<class 'pandas.core.frame.DataFrame'>\n",
      "RangeIndex: 200000 entries, 0 to 199999\n",
      "Data columns (total 39 columns):\n",
      " #   Column             Non-Null Count   Dtype         \n",
      "---  ------             --------------   -----         \n",
      " 0   SaleID             200000 non-null  int64         \n",
      " 1   regDate            200000 non-null  datetime64[ns]\n",
      " 2   model              200000 non-null  float64       \n",
      " 3   brand              200000 non-null  int64         \n",
      " 4   bodyType           200000 non-null  float64       \n",
      " 5   fuelType           200000 non-null  float64       \n",
      " 6   gearbox            200000 non-null  float64       \n",
      " 7   power              200000 non-null  int64         \n",
      " 8   kilometer          200000 non-null  float64       \n",
      " 9   notRepairedDamage  200000 non-null  float64       \n",
      " 10  regionCode         200000 non-null  int64         \n",
      " 11  creatDate          200000 non-null  datetime64[ns]\n",
      " 12  price              150000 non-null  float64       \n",
      " 13  v_0                200000 non-null  float64       \n",
      " 14  v_1                200000 non-null  float64       \n",
      " 15  v_2                200000 non-null  float64       \n",
      " 16  v_3                200000 non-null  float64       \n",
      " 17  v_4                200000 non-null  float64       \n",
      " 18  v_5                200000 non-null  float64       \n",
      " 19  v_6                200000 non-null  float64       \n",
      " 20  v_7                200000 non-null  float64       \n",
      " 21  v_8                200000 non-null  float64       \n",
      " 22  v_9                200000 non-null  float64       \n",
      " 23  v_10               200000 non-null  float64       \n",
      " 24  v_11               200000 non-null  float64       \n",
      " 25  v_12               200000 non-null  float64       \n",
      " 26  v_13               200000 non-null  float64       \n",
      " 27  v_14               200000 non-null  float64       \n",
      " 28  power_bin          200000 non-null  int64         \n",
      " 29  model_bin          200000 non-null  int64         \n",
      " 30  name_count         200000 non-null  int64         \n",
      " 31  regDate_year       200000 non-null  int64         \n",
      " 32  regDate_month      200000 non-null  int64         \n",
      " 33  regDate_day        200000 non-null  int64         \n",
      " 34  creatDate_year     200000 non-null  int64         \n",
      " 35  creatDate_month    200000 non-null  int64         \n",
      " 36  creatDate_day      200000 non-null  int64         \n",
      " 37  car_age_day        200000 non-null  int64         \n",
      " 38  car_age_year       200000 non-null  float64       \n",
      "dtypes: datetime64[ns](2), float64(23), int64(14)\n",
      "memory usage: 59.5 MB\n"
     ]
    }
   ],
   "source": [
    "df.info()"
   ]
  },
  {
   "cell_type": "code",
   "execution_count": 910,
   "metadata": {},
   "outputs": [],
   "source": [
    "#类别特征'model', 'brand', 'bodyType', 'fuelType','gearbox', 'kilometer', 'notRepairedDamage', 'regionCode',\n",
    "# 和数值特征'power','car_age_day'的交叉统计 只保留了部分有效组合\n",
    "\n",
    "cat_cols = ['brand','model','kilometer','fuelType','bodyType']\n",
    "for col in cat_cols:\n",
    "    t = df.groupby(col,as_index=False)['power'].agg(\n",
    "        {col+'_count':'count',col+'_power_max':'max',col+'_power_median':'median',\n",
    "         col+'_power_min':'min',col+'_power_sum':'sum',col+'_power_std':'std',col+'_power_mean':'mean'})\n",
    "    df = pd.merge(df,t,on=col,how='left')\n",
    "for col in cat_cols:\n",
    "    t = df.groupby(col,as_index=False)['car_age_day'].agg(\n",
    "        {col+'_car_age_day_max':'max',col+'_car_age_day_median':'median',\n",
    "         col+'_car_age_day_min':'min',col+'_car_age_day_sum':'sum',col+'_car_age_day_std':'std',col+'_car_age_day_mean':'mean'})\n",
    "    df = pd.merge(df,t,on=col,how='left')"
   ]
  },
  {
   "cell_type": "code",
   "execution_count": 911,
   "metadata": {},
   "outputs": [
    {
     "data": {
      "text/plain": [
       "2"
      ]
     },
     "execution_count": 911,
     "metadata": {},
     "output_type": "execute_result"
    }
   ],
   "source": [
    "# 查看增加字段后，有多少个缺失值\n",
    "df[[col for col in df.columns if col != 'price']].isnull().sum().sum()"
   ]
  },
  {
   "cell_type": "code",
   "execution_count": 912,
   "metadata": {},
   "outputs": [
    {
     "name": "stdout",
     "output_type": "stream",
     "text": [
      "['model_power_std', 'model_car_age_day_std']\n"
     ]
    }
   ],
   "source": [
    "# 找到是哪些字段产生了缺失值\n",
    "res = []\n",
    "for col in df.columns:\n",
    "    if col != 'price':\n",
    "        if df[col].isnull().sum() != 0:\n",
    "            res.append(col)\n",
    "print(res)"
   ]
  },
  {
   "cell_type": "code",
   "execution_count": 913,
   "metadata": {},
   "outputs": [],
   "source": [
    "# 将两个缺失值用众数填充\n",
    "for col in df.columns:\n",
    "    if col != 'price':\n",
    "        df[col].fillna(df[col].mode()[0],inplace=True)"
   ]
  },
  {
   "cell_type": "code",
   "execution_count": 914,
   "metadata": {},
   "outputs": [
    {
     "data": {
      "text/plain": [
       "0"
      ]
     },
     "execution_count": 914,
     "metadata": {},
     "output_type": "execute_result"
    }
   ],
   "source": [
    "# 确认price字段外没有缺失值了\n",
    "df[[col for col in df.columns if col != 'price']].isnull().sum().sum()"
   ]
  },
  {
   "cell_type": "code",
   "execution_count": 915,
   "metadata": {},
   "outputs": [
    {
     "data": {
      "text/plain": [
       "Index(['SaleID', 'regDate', 'model', 'brand', 'bodyType', 'fuelType',\n",
       "       'gearbox', 'power', 'kilometer', 'notRepairedDamage',\n",
       "       ...\n",
       "       'fuelType_car_age_day_min', 'fuelType_car_age_day_sum',\n",
       "       'fuelType_car_age_day_std', 'fuelType_car_age_day_mean',\n",
       "       'bodyType_car_age_day_max', 'bodyType_car_age_day_median',\n",
       "       'bodyType_car_age_day_min', 'bodyType_car_age_day_sum',\n",
       "       'bodyType_car_age_day_std', 'bodyType_car_age_day_mean'],\n",
       "      dtype='object', length=104)"
      ]
     },
     "execution_count": 915,
     "metadata": {},
     "output_type": "execute_result"
    }
   ],
   "source": [
    "df.columns"
   ]
  },
  {
   "cell_type": "code",
   "execution_count": 916,
   "metadata": {},
   "outputs": [
    {
     "data": {
      "text/html": [
       "<div>\n",
       "<style scoped>\n",
       "    .dataframe tbody tr th:only-of-type {\n",
       "        vertical-align: middle;\n",
       "    }\n",
       "\n",
       "    .dataframe tbody tr th {\n",
       "        vertical-align: top;\n",
       "    }\n",
       "\n",
       "    .dataframe thead th {\n",
       "        text-align: right;\n",
       "    }\n",
       "</style>\n",
       "<table border=\"1\" class=\"dataframe\">\n",
       "  <thead>\n",
       "    <tr style=\"text-align: right;\">\n",
       "      <th></th>\n",
       "      <th>SaleID</th>\n",
       "      <th>regDate</th>\n",
       "      <th>model</th>\n",
       "      <th>brand</th>\n",
       "      <th>bodyType</th>\n",
       "      <th>fuelType</th>\n",
       "      <th>gearbox</th>\n",
       "      <th>power</th>\n",
       "      <th>kilometer</th>\n",
       "      <th>notRepairedDamage</th>\n",
       "      <th>...</th>\n",
       "      <th>fuelType_car_age_day_min</th>\n",
       "      <th>fuelType_car_age_day_sum</th>\n",
       "      <th>fuelType_car_age_day_std</th>\n",
       "      <th>fuelType_car_age_day_mean</th>\n",
       "      <th>bodyType_car_age_day_max</th>\n",
       "      <th>bodyType_car_age_day_median</th>\n",
       "      <th>bodyType_car_age_day_min</th>\n",
       "      <th>bodyType_car_age_day_sum</th>\n",
       "      <th>bodyType_car_age_day_std</th>\n",
       "      <th>bodyType_car_age_day_mean</th>\n",
       "    </tr>\n",
       "  </thead>\n",
       "  <tbody>\n",
       "    <tr>\n",
       "      <th>0</th>\n",
       "      <td>0</td>\n",
       "      <td>2004-04-02</td>\n",
       "      <td>30.0</td>\n",
       "      <td>6</td>\n",
       "      <td>1.0</td>\n",
       "      <td>0.0</td>\n",
       "      <td>0.0</td>\n",
       "      <td>60</td>\n",
       "      <td>12.5</td>\n",
       "      <td>0.0</td>\n",
       "      <td>...</td>\n",
       "      <td>51</td>\n",
       "      <td>604221628</td>\n",
       "      <td>1974.092650</td>\n",
       "      <td>4946.756953</td>\n",
       "      <td>9223</td>\n",
       "      <td>5042.0</td>\n",
       "      <td>94</td>\n",
       "      <td>225536688</td>\n",
       "      <td>1923.642524</td>\n",
       "      <td>4775.082317</td>\n",
       "    </tr>\n",
       "    <tr>\n",
       "      <th>1</th>\n",
       "      <td>1</td>\n",
       "      <td>2003-03-01</td>\n",
       "      <td>40.0</td>\n",
       "      <td>1</td>\n",
       "      <td>2.0</td>\n",
       "      <td>0.0</td>\n",
       "      <td>0.0</td>\n",
       "      <td>0</td>\n",
       "      <td>15.0</td>\n",
       "      <td>-1.0</td>\n",
       "      <td>...</td>\n",
       "      <td>51</td>\n",
       "      <td>604221628</td>\n",
       "      <td>1974.092650</td>\n",
       "      <td>4946.756953</td>\n",
       "      <td>9222</td>\n",
       "      <td>4328.0</td>\n",
       "      <td>91</td>\n",
       "      <td>174796438</td>\n",
       "      <td>1814.733220</td>\n",
       "      <td>4347.088734</td>\n",
       "    </tr>\n",
       "    <tr>\n",
       "      <th>2</th>\n",
       "      <td>2</td>\n",
       "      <td>2004-04-03</td>\n",
       "      <td>115.0</td>\n",
       "      <td>15</td>\n",
       "      <td>1.0</td>\n",
       "      <td>0.0</td>\n",
       "      <td>0.0</td>\n",
       "      <td>163</td>\n",
       "      <td>12.5</td>\n",
       "      <td>0.0</td>\n",
       "      <td>...</td>\n",
       "      <td>51</td>\n",
       "      <td>604221628</td>\n",
       "      <td>1974.092650</td>\n",
       "      <td>4946.756953</td>\n",
       "      <td>9223</td>\n",
       "      <td>5042.0</td>\n",
       "      <td>94</td>\n",
       "      <td>225536688</td>\n",
       "      <td>1923.642524</td>\n",
       "      <td>4775.082317</td>\n",
       "    </tr>\n",
       "    <tr>\n",
       "      <th>3</th>\n",
       "      <td>3</td>\n",
       "      <td>1996-09-08</td>\n",
       "      <td>109.0</td>\n",
       "      <td>10</td>\n",
       "      <td>0.0</td>\n",
       "      <td>0.0</td>\n",
       "      <td>1.0</td>\n",
       "      <td>193</td>\n",
       "      <td>15.0</td>\n",
       "      <td>0.0</td>\n",
       "      <td>...</td>\n",
       "      <td>51</td>\n",
       "      <td>604221628</td>\n",
       "      <td>1974.092650</td>\n",
       "      <td>4946.756953</td>\n",
       "      <td>9224</td>\n",
       "      <td>4769.0</td>\n",
       "      <td>96</td>\n",
       "      <td>259915714</td>\n",
       "      <td>2024.025934</td>\n",
       "      <td>4709.897871</td>\n",
       "    </tr>\n",
       "    <tr>\n",
       "      <th>4</th>\n",
       "      <td>4</td>\n",
       "      <td>2012-01-03</td>\n",
       "      <td>110.0</td>\n",
       "      <td>5</td>\n",
       "      <td>1.0</td>\n",
       "      <td>0.0</td>\n",
       "      <td>0.0</td>\n",
       "      <td>68</td>\n",
       "      <td>5.0</td>\n",
       "      <td>0.0</td>\n",
       "      <td>...</td>\n",
       "      <td>51</td>\n",
       "      <td>604221628</td>\n",
       "      <td>1974.092650</td>\n",
       "      <td>4946.756953</td>\n",
       "      <td>9223</td>\n",
       "      <td>5042.0</td>\n",
       "      <td>94</td>\n",
       "      <td>225536688</td>\n",
       "      <td>1923.642524</td>\n",
       "      <td>4775.082317</td>\n",
       "    </tr>\n",
       "    <tr>\n",
       "      <th>...</th>\n",
       "      <td>...</td>\n",
       "      <td>...</td>\n",
       "      <td>...</td>\n",
       "      <td>...</td>\n",
       "      <td>...</td>\n",
       "      <td>...</td>\n",
       "      <td>...</td>\n",
       "      <td>...</td>\n",
       "      <td>...</td>\n",
       "      <td>...</td>\n",
       "      <td>...</td>\n",
       "      <td>...</td>\n",
       "      <td>...</td>\n",
       "      <td>...</td>\n",
       "      <td>...</td>\n",
       "      <td>...</td>\n",
       "      <td>...</td>\n",
       "      <td>...</td>\n",
       "      <td>...</td>\n",
       "      <td>...</td>\n",
       "      <td>...</td>\n",
       "    </tr>\n",
       "    <tr>\n",
       "      <th>199995</th>\n",
       "      <td>249995</td>\n",
       "      <td>2004-10-05</td>\n",
       "      <td>4.0</td>\n",
       "      <td>4</td>\n",
       "      <td>0.0</td>\n",
       "      <td>-1.0</td>\n",
       "      <td>1.0</td>\n",
       "      <td>150</td>\n",
       "      <td>15.0</td>\n",
       "      <td>-1.0</td>\n",
       "      <td>...</td>\n",
       "      <td>105</td>\n",
       "      <td>63566154</td>\n",
       "      <td>1764.129404</td>\n",
       "      <td>5477.951913</td>\n",
       "      <td>9224</td>\n",
       "      <td>4769.0</td>\n",
       "      <td>96</td>\n",
       "      <td>259915714</td>\n",
       "      <td>2024.025934</td>\n",
       "      <td>4709.897871</td>\n",
       "    </tr>\n",
       "    <tr>\n",
       "      <th>199996</th>\n",
       "      <td>249996</td>\n",
       "      <td>2013-04-09</td>\n",
       "      <td>65.0</td>\n",
       "      <td>1</td>\n",
       "      <td>0.0</td>\n",
       "      <td>0.0</td>\n",
       "      <td>0.0</td>\n",
       "      <td>179</td>\n",
       "      <td>4.0</td>\n",
       "      <td>0.0</td>\n",
       "      <td>...</td>\n",
       "      <td>51</td>\n",
       "      <td>604221628</td>\n",
       "      <td>1974.092650</td>\n",
       "      <td>4946.756953</td>\n",
       "      <td>9224</td>\n",
       "      <td>4769.0</td>\n",
       "      <td>96</td>\n",
       "      <td>259915714</td>\n",
       "      <td>2024.025934</td>\n",
       "      <td>4709.897871</td>\n",
       "    </tr>\n",
       "    <tr>\n",
       "      <th>199997</th>\n",
       "      <td>249997</td>\n",
       "      <td>2004-12-11</td>\n",
       "      <td>4.0</td>\n",
       "      <td>4</td>\n",
       "      <td>0.0</td>\n",
       "      <td>0.0</td>\n",
       "      <td>1.0</td>\n",
       "      <td>147</td>\n",
       "      <td>12.5</td>\n",
       "      <td>0.0</td>\n",
       "      <td>...</td>\n",
       "      <td>51</td>\n",
       "      <td>604221628</td>\n",
       "      <td>1974.092650</td>\n",
       "      <td>4946.756953</td>\n",
       "      <td>9224</td>\n",
       "      <td>4769.0</td>\n",
       "      <td>96</td>\n",
       "      <td>259915714</td>\n",
       "      <td>2024.025934</td>\n",
       "      <td>4709.897871</td>\n",
       "    </tr>\n",
       "    <tr>\n",
       "      <th>199998</th>\n",
       "      <td>249998</td>\n",
       "      <td>2002-07-02</td>\n",
       "      <td>40.0</td>\n",
       "      <td>1</td>\n",
       "      <td>4.0</td>\n",
       "      <td>0.0</td>\n",
       "      <td>1.0</td>\n",
       "      <td>176</td>\n",
       "      <td>15.0</td>\n",
       "      <td>0.0</td>\n",
       "      <td>...</td>\n",
       "      <td>51</td>\n",
       "      <td>604221628</td>\n",
       "      <td>1974.092650</td>\n",
       "      <td>4946.756953</td>\n",
       "      <td>9224</td>\n",
       "      <td>4463.0</td>\n",
       "      <td>98</td>\n",
       "      <td>59065373</td>\n",
       "      <td>2029.831364</td>\n",
       "      <td>4590.454107</td>\n",
       "    </tr>\n",
       "    <tr>\n",
       "      <th>199999</th>\n",
       "      <td>249999</td>\n",
       "      <td>2009-07-08</td>\n",
       "      <td>32.0</td>\n",
       "      <td>8</td>\n",
       "      <td>1.0</td>\n",
       "      <td>0.0</td>\n",
       "      <td>0.0</td>\n",
       "      <td>0</td>\n",
       "      <td>3.0</td>\n",
       "      <td>0.0</td>\n",
       "      <td>...</td>\n",
       "      <td>51</td>\n",
       "      <td>604221628</td>\n",
       "      <td>1974.092650</td>\n",
       "      <td>4946.756953</td>\n",
       "      <td>9223</td>\n",
       "      <td>5042.0</td>\n",
       "      <td>94</td>\n",
       "      <td>225536688</td>\n",
       "      <td>1923.642524</td>\n",
       "      <td>4775.082317</td>\n",
       "    </tr>\n",
       "  </tbody>\n",
       "</table>\n",
       "<p>200000 rows × 104 columns</p>\n",
       "</div>"
      ],
      "text/plain": [
       "        SaleID    regDate  model  brand  bodyType  fuelType  gearbox  power  \\\n",
       "0            0 2004-04-02   30.0      6       1.0       0.0      0.0     60   \n",
       "1            1 2003-03-01   40.0      1       2.0       0.0      0.0      0   \n",
       "2            2 2004-04-03  115.0     15       1.0       0.0      0.0    163   \n",
       "3            3 1996-09-08  109.0     10       0.0       0.0      1.0    193   \n",
       "4            4 2012-01-03  110.0      5       1.0       0.0      0.0     68   \n",
       "...        ...        ...    ...    ...       ...       ...      ...    ...   \n",
       "199995  249995 2004-10-05    4.0      4       0.0      -1.0      1.0    150   \n",
       "199996  249996 2013-04-09   65.0      1       0.0       0.0      0.0    179   \n",
       "199997  249997 2004-12-11    4.0      4       0.0       0.0      1.0    147   \n",
       "199998  249998 2002-07-02   40.0      1       4.0       0.0      1.0    176   \n",
       "199999  249999 2009-07-08   32.0      8       1.0       0.0      0.0      0   \n",
       "\n",
       "        kilometer  notRepairedDamage  ...  fuelType_car_age_day_min  \\\n",
       "0            12.5                0.0  ...                        51   \n",
       "1            15.0               -1.0  ...                        51   \n",
       "2            12.5                0.0  ...                        51   \n",
       "3            15.0                0.0  ...                        51   \n",
       "4             5.0                0.0  ...                        51   \n",
       "...           ...                ...  ...                       ...   \n",
       "199995       15.0               -1.0  ...                       105   \n",
       "199996        4.0                0.0  ...                        51   \n",
       "199997       12.5                0.0  ...                        51   \n",
       "199998       15.0                0.0  ...                        51   \n",
       "199999        3.0                0.0  ...                        51   \n",
       "\n",
       "       fuelType_car_age_day_sum  fuelType_car_age_day_std  \\\n",
       "0                     604221628               1974.092650   \n",
       "1                     604221628               1974.092650   \n",
       "2                     604221628               1974.092650   \n",
       "3                     604221628               1974.092650   \n",
       "4                     604221628               1974.092650   \n",
       "...                         ...                       ...   \n",
       "199995                 63566154               1764.129404   \n",
       "199996                604221628               1974.092650   \n",
       "199997                604221628               1974.092650   \n",
       "199998                604221628               1974.092650   \n",
       "199999                604221628               1974.092650   \n",
       "\n",
       "        fuelType_car_age_day_mean  bodyType_car_age_day_max  \\\n",
       "0                     4946.756953                      9223   \n",
       "1                     4946.756953                      9222   \n",
       "2                     4946.756953                      9223   \n",
       "3                     4946.756953                      9224   \n",
       "4                     4946.756953                      9223   \n",
       "...                           ...                       ...   \n",
       "199995                5477.951913                      9224   \n",
       "199996                4946.756953                      9224   \n",
       "199997                4946.756953                      9224   \n",
       "199998                4946.756953                      9224   \n",
       "199999                4946.756953                      9223   \n",
       "\n",
       "        bodyType_car_age_day_median  bodyType_car_age_day_min  \\\n",
       "0                            5042.0                        94   \n",
       "1                            4328.0                        91   \n",
       "2                            5042.0                        94   \n",
       "3                            4769.0                        96   \n",
       "4                            5042.0                        94   \n",
       "...                             ...                       ...   \n",
       "199995                       4769.0                        96   \n",
       "199996                       4769.0                        96   \n",
       "199997                       4769.0                        96   \n",
       "199998                       4463.0                        98   \n",
       "199999                       5042.0                        94   \n",
       "\n",
       "        bodyType_car_age_day_sum  bodyType_car_age_day_std  \\\n",
       "0                      225536688               1923.642524   \n",
       "1                      174796438               1814.733220   \n",
       "2                      225536688               1923.642524   \n",
       "3                      259915714               2024.025934   \n",
       "4                      225536688               1923.642524   \n",
       "...                          ...                       ...   \n",
       "199995                 259915714               2024.025934   \n",
       "199996                 259915714               2024.025934   \n",
       "199997                 259915714               2024.025934   \n",
       "199998                  59065373               2029.831364   \n",
       "199999                 225536688               1923.642524   \n",
       "\n",
       "        bodyType_car_age_day_mean  \n",
       "0                     4775.082317  \n",
       "1                     4347.088734  \n",
       "2                     4775.082317  \n",
       "3                     4709.897871  \n",
       "4                     4775.082317  \n",
       "...                           ...  \n",
       "199995                4709.897871  \n",
       "199996                4709.897871  \n",
       "199997                4709.897871  \n",
       "199998                4590.454107  \n",
       "199999                4775.082317  \n",
       "\n",
       "[200000 rows x 104 columns]"
      ]
     },
     "execution_count": 916,
     "metadata": {},
     "output_type": "execute_result"
    }
   ],
   "source": [
    "df"
   ]
  },
  {
   "cell_type": "code",
   "execution_count": 917,
   "metadata": {},
   "outputs": [
    {
     "data": {
      "text/plain": [
       "<AxesSubplot:>"
      ]
     },
     "execution_count": 917,
     "metadata": {},
     "output_type": "execute_result"
    },
    {
     "data": {
      "image/png": "[encoded data removed]",
      "text/plain": [
       "<Figure size 720x720 with 2 Axes>"
      ]
     },
     "metadata": {
      "needs_background": "light"
     },
     "output_type": "display_data"
    }
   ],
   "source": [
    "num_fea = ['power', 'kilometer','price','v_0', 'v_1', 'v_2', 'v_3','v_4', 'v_5', 'v_6', 'v_7', 'v_8', 'v_9', 'v_10', 'v_11', 'v_12','v_13', 'v_14']\n",
    "corr1 = abs(df[df['price'].notnull()][num_fea].corr())\n",
    "plt.figure(figsize=(10, 10))\n",
    "sns.heatmap(corr1, annot=True,linewidths=0.1, cmap=sns.cm.rocket_r)\n",
    "# 根据热力图num_fea中删掉这些特征: v_4 v_5 v_6 v_7 v_8 v_10 "
   ]
  },
  {
   "cell_type": "code",
   "execution_count": 918,
   "metadata": {},
   "outputs": [],
   "source": [
    "del df['v_4']\n",
    "del df['v_5']\n",
    "del df['v_6']\n",
    "del df['v_7']\n",
    "del df['v_8']\n",
    "del df['v_10']"
   ]
  },
  {
   "cell_type": "code",
   "execution_count": 919,
   "metadata": {},
   "outputs": [
    {
     "data": {
      "text/plain": [
       "Index(['SaleID', 'regDate', 'model', 'brand', 'bodyType', 'fuelType',\n",
       "       'gearbox', 'power', 'kilometer', 'notRepairedDamage',\n",
       "       ...\n",
       "       'fuelType_car_age_day_min', 'fuelType_car_age_day_sum',\n",
       "       'fuelType_car_age_day_std', 'fuelType_car_age_day_mean',\n",
       "       'bodyType_car_age_day_max', 'bodyType_car_age_day_median',\n",
       "       'bodyType_car_age_day_min', 'bodyType_car_age_day_sum',\n",
       "       'bodyType_car_age_day_std', 'bodyType_car_age_day_mean'],\n",
       "      dtype='object', length=104)"
      ]
     },
     "execution_count": 919,
     "metadata": {},
     "output_type": "execute_result"
    }
   ],
   "source": [
    "df.columns"
   ]
  },
  {
   "cell_type": "code",
   "execution_count": 920,
   "metadata": {
    "scrolled": true
   },
   "outputs": [
    {
     "name": "stdout",
     "output_type": "stream",
     "text": [
      "<class 'pandas.core.frame.DataFrame'>\n",
      "Int64Index: 200000 entries, 0 to 199999\n",
      "Columns: 104 entries, SaleID to bodyType_car_age_day_mean\n",
      "dtypes: datetime64[ns](2), float64(52), int64(50)\n",
      "memory usage: 160.2 MB\n"
     ]
    }
   ],
   "source": [
    "# X_data['notRepairedDamage'] object->float64.否则xgb训练报错\n",
    "df['notRepairedDamage'] = df['notRepairedDamage'].astype('float64')\n",
    "df.info()"
   ]
  },
  {
   "cell_type": "code",
   "execution_count": 921,
   "metadata": {},
   "outputs": [],
   "source": [
    "df.to_csv('xgb_df.csv')"
   ]
  },
  {
   "cell_type": "code",
   "execution_count": 2,
   "metadata": {},
   "outputs": [
    {
     "data": {
      "text/html": [
       "<div>\n",
       "<style scoped>\n",
       "    .dataframe tbody tr th:only-of-type {\n",
       "        vertical-align: middle;\n",
       "    }\n",
       "\n",
       "    .dataframe tbody tr th {\n",
       "        vertical-align: top;\n",
       "    }\n",
       "\n",
       "    .dataframe thead th {\n",
       "        text-align: right;\n",
       "    }\n",
       "</style>\n",
       "<table border=\"1\" class=\"dataframe\">\n",
       "  <thead>\n",
       "    <tr style=\"text-align: right;\">\n",
       "      <th></th>\n",
       "      <th>SaleID</th>\n",
       "      <th>regDate</th>\n",
       "      <th>model</th>\n",
       "      <th>brand</th>\n",
       "      <th>bodyType</th>\n",
       "      <th>fuelType</th>\n",
       "      <th>gearbox</th>\n",
       "      <th>power</th>\n",
       "      <th>kilometer</th>\n",
       "      <th>notRepairedDamage</th>\n",
       "      <th>...</th>\n",
       "      <th>fuelType_car_age_day_min</th>\n",
       "      <th>fuelType_car_age_day_sum</th>\n",
       "      <th>fuelType_car_age_day_std</th>\n",
       "      <th>fuelType_car_age_day_mean</th>\n",
       "      <th>bodyType_car_age_day_max</th>\n",
       "      <th>bodyType_car_age_day_median</th>\n",
       "      <th>bodyType_car_age_day_min</th>\n",
       "      <th>bodyType_car_age_day_sum</th>\n",
       "      <th>bodyType_car_age_day_std</th>\n",
       "      <th>bodyType_car_age_day_mean</th>\n",
       "    </tr>\n",
       "  </thead>\n",
       "  <tbody>\n",
       "    <tr>\n",
       "      <th>0</th>\n",
       "      <td>0</td>\n",
       "      <td>2004-04-02</td>\n",
       "      <td>30.0</td>\n",
       "      <td>6</td>\n",
       "      <td>1.0</td>\n",
       "      <td>0.0</td>\n",
       "      <td>0.0</td>\n",
       "      <td>60</td>\n",
       "      <td>12.5</td>\n",
       "      <td>0.0</td>\n",
       "      <td>...</td>\n",
       "      <td>51</td>\n",
       "      <td>604221628</td>\n",
       "      <td>1974.092650</td>\n",
       "      <td>4946.756953</td>\n",
       "      <td>9223</td>\n",
       "      <td>5042.0</td>\n",
       "      <td>94</td>\n",
       "      <td>225536688</td>\n",
       "      <td>1923.642524</td>\n",
       "      <td>4775.082317</td>\n",
       "    </tr>\n",
       "    <tr>\n",
       "      <th>1</th>\n",
       "      <td>1</td>\n",
       "      <td>2003-03-01</td>\n",
       "      <td>40.0</td>\n",
       "      <td>1</td>\n",
       "      <td>2.0</td>\n",
       "      <td>0.0</td>\n",
       "      <td>0.0</td>\n",
       "      <td>0</td>\n",
       "      <td>15.0</td>\n",
       "      <td>-1.0</td>\n",
       "      <td>...</td>\n",
       "      <td>51</td>\n",
       "      <td>604221628</td>\n",
       "      <td>1974.092650</td>\n",
       "      <td>4946.756953</td>\n",
       "      <td>9222</td>\n",
       "      <td>4328.0</td>\n",
       "      <td>91</td>\n",
       "      <td>174796438</td>\n",
       "      <td>1814.733220</td>\n",
       "      <td>4347.088734</td>\n",
       "    </tr>\n",
       "    <tr>\n",
       "      <th>2</th>\n",
       "      <td>2</td>\n",
       "      <td>2004-04-03</td>\n",
       "      <td>115.0</td>\n",
       "      <td>15</td>\n",
       "      <td>1.0</td>\n",
       "      <td>0.0</td>\n",
       "      <td>0.0</td>\n",
       "      <td>163</td>\n",
       "      <td>12.5</td>\n",
       "      <td>0.0</td>\n",
       "      <td>...</td>\n",
       "      <td>51</td>\n",
       "      <td>604221628</td>\n",
       "      <td>1974.092650</td>\n",
       "      <td>4946.756953</td>\n",
       "      <td>9223</td>\n",
       "      <td>5042.0</td>\n",
       "      <td>94</td>\n",
       "      <td>225536688</td>\n",
       "      <td>1923.642524</td>\n",
       "      <td>4775.082317</td>\n",
       "    </tr>\n",
       "    <tr>\n",
       "      <th>3</th>\n",
       "      <td>3</td>\n",
       "      <td>1996-09-08</td>\n",
       "      <td>109.0</td>\n",
       "      <td>10</td>\n",
       "      <td>0.0</td>\n",
       "      <td>0.0</td>\n",
       "      <td>1.0</td>\n",
       "      <td>193</td>\n",
       "      <td>15.0</td>\n",
       "      <td>0.0</td>\n",
       "      <td>...</td>\n",
       "      <td>51</td>\n",
       "      <td>604221628</td>\n",
       "      <td>1974.092650</td>\n",
       "      <td>4946.756953</td>\n",
       "      <td>9224</td>\n",
       "      <td>4769.0</td>\n",
       "      <td>96</td>\n",
       "      <td>259915714</td>\n",
       "      <td>2024.025934</td>\n",
       "      <td>4709.897871</td>\n",
       "    </tr>\n",
       "    <tr>\n",
       "      <th>4</th>\n",
       "      <td>4</td>\n",
       "      <td>2012-01-03</td>\n",
       "      <td>110.0</td>\n",
       "      <td>5</td>\n",
       "      <td>1.0</td>\n",
       "      <td>0.0</td>\n",
       "      <td>0.0</td>\n",
       "      <td>68</td>\n",
       "      <td>5.0</td>\n",
       "      <td>0.0</td>\n",
       "      <td>...</td>\n",
       "      <td>51</td>\n",
       "      <td>604221628</td>\n",
       "      <td>1974.092650</td>\n",
       "      <td>4946.756953</td>\n",
       "      <td>9223</td>\n",
       "      <td>5042.0</td>\n",
       "      <td>94</td>\n",
       "      <td>225536688</td>\n",
       "      <td>1923.642524</td>\n",
       "      <td>4775.082317</td>\n",
       "    </tr>\n",
       "    <tr>\n",
       "      <th>...</th>\n",
       "      <td>...</td>\n",
       "      <td>...</td>\n",
       "      <td>...</td>\n",
       "      <td>...</td>\n",
       "      <td>...</td>\n",
       "      <td>...</td>\n",
       "      <td>...</td>\n",
       "      <td>...</td>\n",
       "      <td>...</td>\n",
       "      <td>...</td>\n",
       "      <td>...</td>\n",
       "      <td>...</td>\n",
       "      <td>...</td>\n",
       "      <td>...</td>\n",
       "      <td>...</td>\n",
       "      <td>...</td>\n",
       "      <td>...</td>\n",
       "      <td>...</td>\n",
       "      <td>...</td>\n",
       "      <td>...</td>\n",
       "      <td>...</td>\n",
       "    </tr>\n",
       "    <tr>\n",
       "      <th>199995</th>\n",
       "      <td>249995</td>\n",
       "      <td>2004-10-05</td>\n",
       "      <td>4.0</td>\n",
       "      <td>4</td>\n",
       "      <td>0.0</td>\n",
       "      <td>-1.0</td>\n",
       "      <td>1.0</td>\n",
       "      <td>150</td>\n",
       "      <td>15.0</td>\n",
       "      <td>-1.0</td>\n",
       "      <td>...</td>\n",
       "      <td>105</td>\n",
       "      <td>63566154</td>\n",
       "      <td>1764.129404</td>\n",
       "      <td>5477.951913</td>\n",
       "      <td>9224</td>\n",
       "      <td>4769.0</td>\n",
       "      <td>96</td>\n",
       "      <td>259915714</td>\n",
       "      <td>2024.025934</td>\n",
       "      <td>4709.897871</td>\n",
       "    </tr>\n",
       "    <tr>\n",
       "      <th>199996</th>\n",
       "      <td>249996</td>\n",
       "      <td>2013-04-09</td>\n",
       "      <td>65.0</td>\n",
       "      <td>1</td>\n",
       "      <td>0.0</td>\n",
       "      <td>0.0</td>\n",
       "      <td>0.0</td>\n",
       "      <td>179</td>\n",
       "      <td>4.0</td>\n",
       "      <td>0.0</td>\n",
       "      <td>...</td>\n",
       "      <td>51</td>\n",
       "      <td>604221628</td>\n",
       "      <td>1974.092650</td>\n",
       "      <td>4946.756953</td>\n",
       "      <td>9224</td>\n",
       "      <td>4769.0</td>\n",
       "      <td>96</td>\n",
       "      <td>259915714</td>\n",
       "      <td>2024.025934</td>\n",
       "      <td>4709.897871</td>\n",
       "    </tr>\n",
       "    <tr>\n",
       "      <th>199997</th>\n",
       "      <td>249997</td>\n",
       "      <td>2004-12-11</td>\n",
       "      <td>4.0</td>\n",
       "      <td>4</td>\n",
       "      <td>0.0</td>\n",
       "      <td>0.0</td>\n",
       "      <td>1.0</td>\n",
       "      <td>147</td>\n",
       "      <td>12.5</td>\n",
       "      <td>0.0</td>\n",
       "      <td>...</td>\n",
       "      <td>51</td>\n",
       "      <td>604221628</td>\n",
       "      <td>1974.092650</td>\n",
       "      <td>4946.756953</td>\n",
       "      <td>9224</td>\n",
       "      <td>4769.0</td>\n",
       "      <td>96</td>\n",
       "      <td>259915714</td>\n",
       "      <td>2024.025934</td>\n",
       "      <td>4709.897871</td>\n",
       "    </tr>\n",
       "    <tr>\n",
       "      <th>199998</th>\n",
       "      <td>249998</td>\n",
       "      <td>2002-07-02</td>\n",
       "      <td>40.0</td>\n",
       "      <td>1</td>\n",
       "      <td>4.0</td>\n",
       "      <td>0.0</td>\n",
       "      <td>1.0</td>\n",
       "      <td>176</td>\n",
       "      <td>15.0</td>\n",
       "      <td>0.0</td>\n",
       "      <td>...</td>\n",
       "      <td>51</td>\n",
       "      <td>604221628</td>\n",
       "      <td>1974.092650</td>\n",
       "      <td>4946.756953</td>\n",
       "      <td>9224</td>\n",
       "      <td>4463.0</td>\n",
       "      <td>98</td>\n",
       "      <td>59065373</td>\n",
       "      <td>2029.831364</td>\n",
       "      <td>4590.454107</td>\n",
       "    </tr>\n",
       "    <tr>\n",
       "      <th>199999</th>\n",
       "      <td>249999</td>\n",
       "      <td>2009-07-08</td>\n",
       "      <td>32.0</td>\n",
       "      <td>8</td>\n",
       "      <td>1.0</td>\n",
       "      <td>0.0</td>\n",
       "      <td>0.0</td>\n",
       "      <td>0</td>\n",
       "      <td>3.0</td>\n",
       "      <td>0.0</td>\n",
       "      <td>...</td>\n",
       "      <td>51</td>\n",
       "      <td>604221628</td>\n",
       "      <td>1974.092650</td>\n",
       "      <td>4946.756953</td>\n",
       "      <td>9223</td>\n",
       "      <td>5042.0</td>\n",
       "      <td>94</td>\n",
       "      <td>225536688</td>\n",
       "      <td>1923.642524</td>\n",
       "      <td>4775.082317</td>\n",
       "    </tr>\n",
       "  </tbody>\n",
       "</table>\n",
       "<p>200000 rows × 104 columns</p>\n",
       "</div>"
      ],
      "text/plain": [
       "        SaleID     regDate  model  brand  bodyType  fuelType  gearbox  power  \\\n",
       "0            0  2004-04-02   30.0      6       1.0       0.0      0.0     60   \n",
       "1            1  2003-03-01   40.0      1       2.0       0.0      0.0      0   \n",
       "2            2  2004-04-03  115.0     15       1.0       0.0      0.0    163   \n",
       "3            3  1996-09-08  109.0     10       0.0       0.0      1.0    193   \n",
       "4            4  2012-01-03  110.0      5       1.0       0.0      0.0     68   \n",
       "...        ...         ...    ...    ...       ...       ...      ...    ...   \n",
       "199995  249995  2004-10-05    4.0      4       0.0      -1.0      1.0    150   \n",
       "199996  249996  2013-04-09   65.0      1       0.0       0.0      0.0    179   \n",
       "199997  249997  2004-12-11    4.0      4       0.0       0.0      1.0    147   \n",
       "199998  249998  2002-07-02   40.0      1       4.0       0.0      1.0    176   \n",
       "199999  249999  2009-07-08   32.0      8       1.0       0.0      0.0      0   \n",
       "\n",
       "        kilometer  notRepairedDamage  ...  fuelType_car_age_day_min  \\\n",
       "0            12.5                0.0  ...                        51   \n",
       "1            15.0               -1.0  ...                        51   \n",
       "2            12.5                0.0  ...                        51   \n",
       "3            15.0                0.0  ...                        51   \n",
       "4             5.0                0.0  ...                        51   \n",
       "...           ...                ...  ...                       ...   \n",
       "199995       15.0               -1.0  ...                       105   \n",
       "199996        4.0                0.0  ...                        51   \n",
       "199997       12.5                0.0  ...                        51   \n",
       "199998       15.0                0.0  ...                        51   \n",
       "199999        3.0                0.0  ...                        51   \n",
       "\n",
       "       fuelType_car_age_day_sum  fuelType_car_age_day_std  \\\n",
       "0                     604221628               1974.092650   \n",
       "1                     604221628               1974.092650   \n",
       "2                     604221628               1974.092650   \n",
       "3                     604221628               1974.092650   \n",
       "4                     604221628               1974.092650   \n",
       "...                         ...                       ...   \n",
       "199995                 63566154               1764.129404   \n",
       "199996                604221628               1974.092650   \n",
       "199997                604221628               1974.092650   \n",
       "199998                604221628               1974.092650   \n",
       "199999                604221628               1974.092650   \n",
       "\n",
       "        fuelType_car_age_day_mean  bodyType_car_age_day_max  \\\n",
       "0                     4946.756953                      9223   \n",
       "1                     4946.756953                      9222   \n",
       "2                     4946.756953                      9223   \n",
       "3                     4946.756953                      9224   \n",
       "4                     4946.756953                      9223   \n",
       "...                           ...                       ...   \n",
       "199995                5477.951913                      9224   \n",
       "199996                4946.756953                      9224   \n",
       "199997                4946.756953                      9224   \n",
       "199998                4946.756953                      9224   \n",
       "199999                4946.756953                      9223   \n",
       "\n",
       "        bodyType_car_age_day_median  bodyType_car_age_day_min  \\\n",
       "0                            5042.0                        94   \n",
       "1                            4328.0                        91   \n",
       "2                            5042.0                        94   \n",
       "3                            4769.0                        96   \n",
       "4                            5042.0                        94   \n",
       "...                             ...                       ...   \n",
       "199995                       4769.0                        96   \n",
       "199996                       4769.0                        96   \n",
       "199997                       4769.0                        96   \n",
       "199998                       4463.0                        98   \n",
       "199999                       5042.0                        94   \n",
       "\n",
       "        bodyType_car_age_day_sum  bodyType_car_age_day_std  \\\n",
       "0                      225536688               1923.642524   \n",
       "1                      174796438               1814.733220   \n",
       "2                      225536688               1923.642524   \n",
       "3                      259915714               2024.025934   \n",
       "4                      225536688               1923.642524   \n",
       "...                          ...                       ...   \n",
       "199995                 259915714               2024.025934   \n",
       "199996                 259915714               2024.025934   \n",
       "199997                 259915714               2024.025934   \n",
       "199998                  59065373               2029.831364   \n",
       "199999                 225536688               1923.642524   \n",
       "\n",
       "        bodyType_car_age_day_mean  \n",
       "0                     4775.082317  \n",
       "1                     4347.088734  \n",
       "2                     4775.082317  \n",
       "3                     4709.897871  \n",
       "4                     4775.082317  \n",
       "...                           ...  \n",
       "199995                4709.897871  \n",
       "199996                4709.897871  \n",
       "199997                4709.897871  \n",
       "199998                4590.454107  \n",
       "199999                4775.082317  \n",
       "\n",
       "[200000 rows x 104 columns]"
      ]
     },
     "execution_count": 2,
     "metadata": {},
     "output_type": "execute_result"
    }
   ],
   "source": [
    "import pandas as pd\n",
    "df = pd.read_csv('xgb_df.csv',index_col=0)\n",
    "df"
   ]
  },
  {
   "cell_type": "code",
   "execution_count": null,
   "metadata": {},
   "outputs": [],
   "source": []
  },
  {
   "cell_type": "code",
   "execution_count": 3,
   "metadata": {
    "collapsed": true
   },
   "outputs": [
    {
     "name": "stdout",
     "output_type": "stream",
     "text": [
      "df information:\n",
      "<class 'pandas.core.frame.DataFrame'>\n",
      "Int64Index: 200000 entries, 0 to 199999\n",
      "Columns: 104 entries, SaleID to bodyType_car_age_day_mean\n",
      "dtypes: float64(52), int64(50), object(2)\n",
      "memory usage: 160.2+ MB\n",
      "test information:\n",
      "<class 'pandas.core.frame.DataFrame'>\n",
      "Int64Index: 50000 entries, 150000 to 199999\n",
      "Columns: 104 entries, SaleID to bodyType_car_age_day_mean\n",
      "dtypes: float64(52), int64(50), object(2)\n",
      "memory usage: 40.1+ MB\n",
      "X_train information:\n",
      "<class 'pandas.core.frame.DataFrame'>\n",
      "Int64Index: 150000 entries, 0 to 149999\n",
      "Data columns (total 99 columns):\n",
      " #   Column                        Non-Null Count   Dtype  \n",
      "---  ------                        --------------   -----  \n",
      " 0   model                         150000 non-null  float64\n",
      " 1   brand                         150000 non-null  int64  \n",
      " 2   bodyType                      150000 non-null  float64\n",
      " 3   fuelType                      150000 non-null  float64\n",
      " 4   gearbox                       150000 non-null  float64\n",
      " 5   power                         150000 non-null  int64  \n",
      " 6   kilometer                     150000 non-null  float64\n",
      " 7   notRepairedDamage             150000 non-null  float64\n",
      " 8   v_0                           150000 non-null  float64\n",
      " 9   v_1                           150000 non-null  float64\n",
      " 10  v_2                           150000 non-null  float64\n",
      " 11  v_3                           150000 non-null  float64\n",
      " 12  v_4                           150000 non-null  float64\n",
      " 13  v_5                           150000 non-null  float64\n",
      " 14  v_6                           150000 non-null  float64\n",
      " 15  v_7                           150000 non-null  float64\n",
      " 16  v_8                           150000 non-null  float64\n",
      " 17  v_9                           150000 non-null  float64\n",
      " 18  v_10                          150000 non-null  float64\n",
      " 19  v_11                          150000 non-null  float64\n",
      " 20  v_12                          150000 non-null  float64\n",
      " 21  v_13                          150000 non-null  float64\n",
      " 22  v_14                          150000 non-null  float64\n",
      " 23  power_bin                     150000 non-null  int64  \n",
      " 24  model_bin                     150000 non-null  int64  \n",
      " 25  name_count                    150000 non-null  int64  \n",
      " 26  regDate_year                  150000 non-null  int64  \n",
      " 27  regDate_month                 150000 non-null  int64  \n",
      " 28  regDate_day                   150000 non-null  int64  \n",
      " 29  creatDate_year                150000 non-null  int64  \n",
      " 30  creatDate_month               150000 non-null  int64  \n",
      " 31  creatDate_day                 150000 non-null  int64  \n",
      " 32  car_age_day                   150000 non-null  int64  \n",
      " 33  car_age_year                  150000 non-null  float64\n",
      " 34  brand_count                   150000 non-null  int64  \n",
      " 35  brand_power_max               150000 non-null  int64  \n",
      " 36  brand_power_median            150000 non-null  float64\n",
      " 37  brand_power_min               150000 non-null  int64  \n",
      " 38  brand_power_sum               150000 non-null  int64  \n",
      " 39  brand_power_std               150000 non-null  float64\n",
      " 40  brand_power_mean              150000 non-null  float64\n",
      " 41  model_count                   150000 non-null  int64  \n",
      " 42  model_power_max               150000 non-null  int64  \n",
      " 43  model_power_median            150000 non-null  float64\n",
      " 44  model_power_min               150000 non-null  int64  \n",
      " 45  model_power_sum               150000 non-null  int64  \n",
      " 46  model_power_std               150000 non-null  float64\n",
      " 47  model_power_mean              150000 non-null  float64\n",
      " 48  kilometer_count               150000 non-null  int64  \n",
      " 49  kilometer_power_max           150000 non-null  int64  \n",
      " 50  kilometer_power_median        150000 non-null  float64\n",
      " 51  kilometer_power_min           150000 non-null  int64  \n",
      " 52  kilometer_power_sum           150000 non-null  int64  \n",
      " 53  kilometer_power_std           150000 non-null  float64\n",
      " 54  kilometer_power_mean          150000 non-null  float64\n",
      " 55  fuelType_count                150000 non-null  int64  \n",
      " 56  fuelType_power_max            150000 non-null  int64  \n",
      " 57  fuelType_power_median         150000 non-null  float64\n",
      " 58  fuelType_power_min            150000 non-null  int64  \n",
      " 59  fuelType_power_sum            150000 non-null  int64  \n",
      " 60  fuelType_power_std            150000 non-null  float64\n",
      " 61  fuelType_power_mean           150000 non-null  float64\n",
      " 62  bodyType_count                150000 non-null  int64  \n",
      " 63  bodyType_power_max            150000 non-null  int64  \n",
      " 64  bodyType_power_median         150000 non-null  int64  \n",
      " 65  bodyType_power_min            150000 non-null  int64  \n",
      " 66  bodyType_power_sum            150000 non-null  int64  \n",
      " 67  bodyType_power_std            150000 non-null  float64\n",
      " 68  bodyType_power_mean           150000 non-null  float64\n",
      " 69  brand_car_age_day_max         150000 non-null  int64  \n",
      " 70  brand_car_age_day_median      150000 non-null  float64\n",
      " 71  brand_car_age_day_min         150000 non-null  int64  \n",
      " 72  brand_car_age_day_sum         150000 non-null  int64  \n",
      " 73  brand_car_age_day_std         150000 non-null  float64\n",
      " 74  brand_car_age_day_mean        150000 non-null  float64\n",
      " 75  model_car_age_day_max         150000 non-null  int64  \n",
      " 76  model_car_age_day_median      150000 non-null  float64\n",
      " 77  model_car_age_day_min         150000 non-null  int64  \n",
      " 78  model_car_age_day_sum         150000 non-null  int64  \n",
      " 79  model_car_age_day_std         150000 non-null  float64\n",
      " 80  model_car_age_day_mean        150000 non-null  float64\n",
      " 81  kilometer_car_age_day_max     150000 non-null  int64  \n",
      " 82  kilometer_car_age_day_median  150000 non-null  float64\n",
      " 83  kilometer_car_age_day_min     150000 non-null  int64  \n",
      " 84  kilometer_car_age_day_sum     150000 non-null  int64  \n",
      " 85  kilometer_car_age_day_std     150000 non-null  float64\n",
      " 86  kilometer_car_age_day_mean    150000 non-null  float64\n",
      " 87  fuelType_car_age_day_max      150000 non-null  int64  \n",
      " 88  fuelType_car_age_day_median   150000 non-null  float64\n",
      " 89  fuelType_car_age_day_min      150000 non-null  int64  \n",
      " 90  fuelType_car_age_day_sum      150000 non-null  int64  \n",
      " 91  fuelType_car_age_day_std      150000 non-null  float64\n",
      " 92  fuelType_car_age_day_mean     150000 non-null  float64\n",
      " 93  bodyType_car_age_day_max      150000 non-null  int64  \n",
      " 94  bodyType_car_age_day_median   150000 non-null  float64\n",
      " 95  bodyType_car_age_day_min      150000 non-null  int64  \n",
      " 96  bodyType_car_age_day_sum      150000 non-null  int64  \n",
      " 97  bodyType_car_age_day_std      150000 non-null  float64\n",
      " 98  bodyType_car_age_day_mean     150000 non-null  float64\n",
      "dtypes: float64(51), int64(48)\n",
      "memory usage: 114.4 MB\n"
     ]
    }
   ],
   "source": [
    "print(\"df information:\")\n",
    "df.info()\n",
    "df1 = df.copy()\n",
    "test = df1[df1['price'].isnull()]\n",
    "X_train = df1[df1['price'].notnull()].drop(['price','regDate','creatDate','SaleID','regionCode'],axis=1)\n",
    "Y_train = df1[df1['price'].notnull()]['price']\n",
    "X_test = df1[df1['price'].isnull()].drop(['price','regDate','creatDate','SaleID','regionCode'],axis=1)\n",
    "print(\"test information:\")\n",
    "test.info()\n",
    "print(\"X_train information:\")\n",
    "X_train.info()"
   ]
  },
  {
   "cell_type": "code",
   "execution_count": 4,
   "metadata": {},
   "outputs": [],
   "source": [
    "from sklearn.model_selection import train_test_split\n",
    "# 数据集切分\n",
    "x_train,x_val,y_train,y_val = train_test_split(X_train,Y_train,test_size=0.2)"
   ]
  },
  {
   "cell_type": "code",
   "execution_count": 5,
   "metadata": {},
   "outputs": [],
   "source": [
    "import xgboost as xgb\n",
    "def build_model_xgb(x_train,y_train):\n",
    "    model = xgb.XGBRegressor()#n_estimator=150, learning_rate = 0.1,gamma=0,max_depth=7\n",
    "    model.fit(x_train, y_train)\n",
    "    return model\n",
    "\n",
    "import lightgbm as lgb\n",
    "def build_model_lgb(x_train,y_train):\n",
    "    model = lgb.LGBMRegressor(n_estimator=150,num_leaves=127,learning_rate = 0.1)\n",
    "    model.fit(x_train, y_train)\n",
    "    return model"
   ]
  },
  {
   "cell_type": "code",
   "execution_count": 6,
   "metadata": {},
   "outputs": [
    {
     "name": "stdout",
     "output_type": "stream",
     "text": [
      "XGBoost Validation MAE: 643.0177072174708\n"
     ]
    }
   ],
   "source": [
    "from sklearn.metrics import mean_absolute_error,mean_squared_error\n",
    "# XGBoost训练 625\n",
    "model_xgb = build_model_xgb(x_train,y_train)\n",
    "val_xgb = model_xgb.predict(x_val)\n",
    "MAE_xgb = mean_absolute_error(y_val, val_xgb)\n",
    "print('XGBoost Validation MAE:', MAE_xgb)\n"
   ]
  },
  {
   "cell_type": "code",
   "execution_count": 7,
   "metadata": {},
   "outputs": [
    {
     "name": "stdout",
     "output_type": "stream",
     "text": [
      "LightGBM Validation MAE: 590.1136720499042\n"
     ]
    }
   ],
   "source": [
    "# LightGBM训练  584\n",
    "model_lgb = build_model_lgb(x_train,y_train)\n",
    "val_lgb = model_lgb.predict(x_val)\n",
    "MAE_lgb = mean_absolute_error(y_val, val_lgb)\n",
    "print('LightGBM Validation MAE:', MAE_lgb)\n"
   ]
  },
  {
   "cell_type": "code",
   "execution_count": 13,
   "metadata": {
    "collapsed": true
   },
   "outputs": [
    {
     "data": {
      "text/html": [
       "<div>\n",
       "<style scoped>\n",
       "    .dataframe tbody tr th:only-of-type {\n",
       "        vertical-align: middle;\n",
       "    }\n",
       "\n",
       "    .dataframe tbody tr th {\n",
       "        vertical-align: top;\n",
       "    }\n",
       "\n",
       "    .dataframe thead th {\n",
       "        text-align: right;\n",
       "    }\n",
       "</style>\n",
       "<table border=\"1\" class=\"dataframe\">\n",
       "  <thead>\n",
       "    <tr style=\"text-align: right;\">\n",
       "      <th></th>\n",
       "      <th>SaleID</th>\n",
       "      <th>price</th>\n",
       "    </tr>\n",
       "  </thead>\n",
       "  <tbody>\n",
       "    <tr>\n",
       "      <th>150000</th>\n",
       "      <td>200000</td>\n",
       "      <td>1220.201879</td>\n",
       "    </tr>\n",
       "    <tr>\n",
       "      <th>150001</th>\n",
       "      <td>200001</td>\n",
       "      <td>1835.224209</td>\n",
       "    </tr>\n",
       "    <tr>\n",
       "      <th>150002</th>\n",
       "      <td>200002</td>\n",
       "      <td>8710.326838</td>\n",
       "    </tr>\n",
       "    <tr>\n",
       "      <th>150003</th>\n",
       "      <td>200003</td>\n",
       "      <td>1237.759421</td>\n",
       "    </tr>\n",
       "    <tr>\n",
       "      <th>150004</th>\n",
       "      <td>200004</td>\n",
       "      <td>1934.919231</td>\n",
       "    </tr>\n",
       "    <tr>\n",
       "      <th>...</th>\n",
       "      <td>...</td>\n",
       "      <td>...</td>\n",
       "    </tr>\n",
       "    <tr>\n",
       "      <th>199995</th>\n",
       "      <td>249995</td>\n",
       "      <td>6350.153182</td>\n",
       "    </tr>\n",
       "    <tr>\n",
       "      <th>199996</th>\n",
       "      <td>249996</td>\n",
       "      <td>18829.119865</td>\n",
       "    </tr>\n",
       "    <tr>\n",
       "      <th>199997</th>\n",
       "      <td>249997</td>\n",
       "      <td>5948.172945</td>\n",
       "    </tr>\n",
       "    <tr>\n",
       "      <th>199998</th>\n",
       "      <td>249998</td>\n",
       "      <td>5107.046739</td>\n",
       "    </tr>\n",
       "    <tr>\n",
       "      <th>199999</th>\n",
       "      <td>249999</td>\n",
       "      <td>5621.111274</td>\n",
       "    </tr>\n",
       "  </tbody>\n",
       "</table>\n",
       "<p>50000 rows × 2 columns</p>\n",
       "</div>"
      ],
      "text/plain": [
       "        SaleID         price\n",
       "150000  200000   1220.201879\n",
       "150001  200001   1835.224209\n",
       "150002  200002   8710.326838\n",
       "150003  200003   1237.759421\n",
       "150004  200004   1934.919231\n",
       "...        ...           ...\n",
       "199995  249995   6350.153182\n",
       "199996  249996  18829.119865\n",
       "199997  249997   5948.172945\n",
       "199998  249998   5107.046739\n",
       "199999  249999   5621.111274\n",
       "\n",
       "[50000 rows x 2 columns]"
      ]
     },
     "execution_count": 13,
     "metadata": {},
     "output_type": "execute_result"
    }
   ],
   "source": [
    "result_xgb = model_xgb.predict(X_test)\n",
    "sub = pd.DataFrame(df1[df1['price'].isnull()]['SaleID'])\n",
    "sub['price']=result_xgb\n",
    "sub.to_csv('submission_xgb.csv',index=False)\n",
    "\n",
    "result_lgb = model_lgb.predict(X_test)\n",
    "sub = pd.DataFrame(df1[df1['price'].isnull()]['SaleID'])\n",
    "sub['price']=result_lgb\n",
    "sub.to_csv('submission_lgb.csv',index=False)\n",
    "sub"
   ]
  },
  {
   "cell_type": "code",
   "execution_count": null,
   "metadata": {},
   "outputs": [],
   "source": []
  },
  {
   "cell_type": "code",
   "execution_count": 824,
   "metadata": {
    "collapsed": true
   },
   "outputs": [
    {
     "data": {
      "text/html": [
       "<div>\n",
       "<style scoped>\n",
       "    .dataframe tbody tr th:only-of-type {\n",
       "        vertical-align: middle;\n",
       "    }\n",
       "\n",
       "    .dataframe tbody tr th {\n",
       "        vertical-align: top;\n",
       "    }\n",
       "\n",
       "    .dataframe thead th {\n",
       "        text-align: right;\n",
       "    }\n",
       "</style>\n",
       "<table border=\"1\" class=\"dataframe\">\n",
       "  <thead>\n",
       "    <tr style=\"text-align: right;\">\n",
       "      <th></th>\n",
       "      <th>SaleID</th>\n",
       "      <th>price</th>\n",
       "    </tr>\n",
       "  </thead>\n",
       "  <tbody>\n",
       "    <tr>\n",
       "      <th>0</th>\n",
       "      <td>200000</td>\n",
       "      <td>1329.841985</td>\n",
       "    </tr>\n",
       "    <tr>\n",
       "      <th>1</th>\n",
       "      <td>200001</td>\n",
       "      <td>1786.382390</td>\n",
       "    </tr>\n",
       "    <tr>\n",
       "      <th>2</th>\n",
       "      <td>200002</td>\n",
       "      <td>8145.274574</td>\n",
       "    </tr>\n",
       "    <tr>\n",
       "      <th>3</th>\n",
       "      <td>200003</td>\n",
       "      <td>1275.762989</td>\n",
       "    </tr>\n",
       "    <tr>\n",
       "      <th>4</th>\n",
       "      <td>200004</td>\n",
       "      <td>1992.904852</td>\n",
       "    </tr>\n",
       "    <tr>\n",
       "      <th>...</th>\n",
       "      <td>...</td>\n",
       "      <td>...</td>\n",
       "    </tr>\n",
       "    <tr>\n",
       "      <th>49995</th>\n",
       "      <td>249995</td>\n",
       "      <td>6383.022064</td>\n",
       "    </tr>\n",
       "    <tr>\n",
       "      <th>49996</th>\n",
       "      <td>249996</td>\n",
       "      <td>19245.626324</td>\n",
       "    </tr>\n",
       "    <tr>\n",
       "      <th>49997</th>\n",
       "      <td>249997</td>\n",
       "      <td>5908.552666</td>\n",
       "    </tr>\n",
       "    <tr>\n",
       "      <th>49998</th>\n",
       "      <td>249998</td>\n",
       "      <td>5239.324020</td>\n",
       "    </tr>\n",
       "    <tr>\n",
       "      <th>49999</th>\n",
       "      <td>249999</td>\n",
       "      <td>5356.713866</td>\n",
       "    </tr>\n",
       "  </tbody>\n",
       "</table>\n",
       "<p>50000 rows × 2 columns</p>\n",
       "</div>"
      ],
      "text/plain": [
       "       SaleID         price\n",
       "0      200000   1329.841985\n",
       "1      200001   1786.382390\n",
       "2      200002   8145.274574\n",
       "3      200003   1275.762989\n",
       "4      200004   1992.904852\n",
       "...       ...           ...\n",
       "49995  249995   6383.022064\n",
       "49996  249996  19245.626324\n",
       "49997  249997   5908.552666\n",
       "49998  249998   5239.324020\n",
       "49999  249999   5356.713866\n",
       "\n",
       "[50000 rows x 2 columns]"
      ]
     },
     "execution_count": 824,
     "metadata": {},
     "output_type": "execute_result"
    }
   ],
   "source": [
    "result_xgb = model_xgb.predict(X_test)\n",
    "result_lgb = model_lgb.predict(X_test)\n",
    "\n",
    "val_xgb = model_xgb.predict(X_train)\n",
    "MAE_xgb = mean_absolute_error(Y_train, val_xgb)\n",
    "val_lgb = model_lgb.predict(X_train)\n",
    "MAE_lgb = mean_absolute_error(Y_train, val_lgb)\n",
    "\n",
    "predict_y = (1-MAE_lgb/(MAE_xgb+MAE_lgb))*result_lgb + (1-MAE_xgb/(MAE_xgb+MAE_lgb))*result_xgb# 这种融合效果不好\n",
    "\n",
    "sub['price'] = predict_y\n",
    "sub"
   ]
  },
  {
   "cell_type": "code",
   "execution_count": 825,
   "metadata": {},
   "outputs": [],
   "source": [
    "# 不要再重新保存，使用之前保存的\n",
    "# sub.to_csv('submission_lxgb.csv',index=False) "
   ]
  },
  {
   "cell_type": "code",
   "execution_count": null,
   "metadata": {},
   "outputs": [],
   "source": []
  },
  {
   "cell_type": "code",
   "execution_count": null,
   "metadata": {},
   "outputs": [],
   "source": []
  },
  {
   "cell_type": "code",
   "execution_count": null,
   "metadata": {},
   "outputs": [],
   "source": []
  },
  {
   "cell_type": "code",
   "execution_count": null,
   "metadata": {},
   "outputs": [],
   "source": []
  },
  {
   "cell_type": "code",
   "execution_count": null,
   "metadata": {},
   "outputs": [],
   "source": []
  },
  {
   "cell_type": "code",
   "execution_count": null,
   "metadata": {},
   "outputs": [],
   "source": []
  },
  {
   "cell_type": "code",
   "execution_count": null,
   "metadata": {},
   "outputs": [],
   "source": []
  },
  {
   "cell_type": "code",
   "execution_count": null,
   "metadata": {},
   "outputs": [],
   "source": []
  },
  {
   "cell_type": "code",
   "execution_count": 9,
   "metadata": {
    "scrolled": true
   },
   "outputs": [],
   "source": [
    "# X_data['notRepairedDamage'] object->float64.否则xgb训练报错\n",
    "X_data['notRepairedDamage'] = X_data['notRepairedDamage'].astype('float64')\n",
    "X_test['notRepairedDamage'] = X_test['notRepairedDamage'].astype('float64')"
   ]
  },
  {
   "cell_type": "code",
   "execution_count": 10,
   "metadata": {},
   "outputs": [
    {
     "name": "stdout",
     "output_type": "stream",
     "text": [
      "Price的统计情况\n",
      "min 11\n",
      "max 99999\n",
      "ptp 99988\n",
      "mean 5923.327333333334\n",
      "std 7501.973469876635\n",
      "var 56279605.942732885\n"
     ]
    }
   ],
   "source": [
    "# 设定统计函数\n",
    "def show_stats(data):\n",
    "    print('min',np.min(data))\n",
    "    print('max',np.max(data))\n",
    "    print('ptp',np.ptp(data))#Range of values (maximum - minimum) along an axis.\n",
    "    print('mean',np.mean(data))\n",
    "    print('std',np.std(data))\n",
    "    print('var',np.var(data))\n",
    "    \n",
    "print('Price的统计情况')    \n",
    "show_stats(Y_data)"
   ]
  },
  {
   "cell_type": "code",
   "execution_count": 11,
   "metadata": {
    "scrolled": true
   },
   "outputs": [
    {
     "name": "stdout",
     "output_type": "stream",
     "text": [
      "[19:37:49] WARNING: C:/Users/Administrator/workspace/xgboost-win64_release_1.3.0/src/learner.cc:541: \n",
      "Parameters: { n_estimator } might not be used.\n",
      "\n",
      "  This may not be accurate due to some parameters are only used in language bindings but\n",
      "  passed down to XGBoost core.  Or some parameters are not used but slip through this\n",
      "  verification. Please open an issue if you find above cases.\n",
      "\n",
      "\n",
      "XGB预测结果的统计情况\n",
      "min 151.01498\n",
      "max 51926.77\n",
      "ptp 51775.754\n",
      "mean 3742.8354\n",
      "std 4499.136\n",
      "var 20242228.0\n"
     ]
    }
   ],
   "source": [
    "import xgboost as xgb\n",
    "model = xgb.XGBRegressor(n_estimator=150, learning_rate = 0.01,\\\n",
    "                       gamma=0,max_depth=7)\n",
    "model.fit(X_train,Y_train)\n",
    "print('XGB预测结果的统计情况')\n",
    "predict_y = model.predict(X_test)\n",
    "show_stats(predict_y)"
   ]
  },
  {
   "cell_type": "code",
   "execution_count": 12,
   "metadata": {},
   "outputs": [],
   "source": [
    "from sklearn.model_selection import train_test_split\n",
    "# 数据集切分\n",
    "x_train,x_val,y_train,y_val = train_test_split(X_data,Y_data,test_size=0.2)"
   ]
  },
  {
   "cell_type": "code",
   "execution_count": 26,
   "metadata": {},
   "outputs": [],
   "source": [
    "def build_model_xgb(x_train,y_train):\n",
    "    model = xgb.XGBRegressor(n_estimator=150, learning_rate = 0.1,\\\n",
    "                       gamma=0,max_depth=7)\n",
    "    model.fit(x_train, y_train)\n",
    "    return model\n",
    "\n",
    "import lightgbm as lgb\n",
    "def build_model_lgb(x_train,y_train):\n",
    "    model = lgb.LGBMRegressor(n_estimator=150,num_leaves=127,learning_rate = 0.1)\n",
    "    model.fit(x_train, y_train)\n",
    "    return model"
   ]
  },
  {
   "cell_type": "code",
   "execution_count": 16,
   "metadata": {},
   "outputs": [
    {
     "name": "stdout",
     "output_type": "stream",
     "text": [
      "[20:07:58] WARNING: C:/Users/Administrator/workspace/xgboost-win64_release_1.3.0/src/learner.cc:541: \n",
      "Parameters: { n_estimator } might not be used.\n",
      "\n",
      "  This may not be accurate due to some parameters are only used in language bindings but\n",
      "  passed down to XGBoost core.  Or some parameters are not used but slip through this\n",
      "  verification. Please open an issue if you find above cases.\n",
      "\n",
      "\n",
      "XGBoost Validation MAE: 681.2331915704489\n"
     ]
    }
   ],
   "source": [
    "from sklearn.metrics import mean_absolute_error,mean_squared_error\n",
    "# XGBoost训练\n",
    "model_xgb = build_model_xgb(x_train,y_train)\n",
    "val_xgb = model_xgb.predict(x_val)\n",
    "MAE_xgb = mean_absolute_error(y_val, val_xgb)\n",
    "print('XGBoost Validation MAE:', MAE_xgb)"
   ]
  },
  {
   "cell_type": "code",
   "execution_count": 18,
   "metadata": {},
   "outputs": [
    {
     "name": "stdout",
     "output_type": "stream",
     "text": [
      "[20:09:54] WARNING: C:/Users/Administrator/workspace/xgboost-win64_release_1.3.0/src/learner.cc:541: \n",
      "Parameters: { n_estimator } might not be used.\n",
      "\n",
      "  This may not be accurate due to some parameters are only used in language bindings but\n",
      "  passed down to XGBoost core.  Or some parameters are not used but slip through this\n",
      "  verification. Please open an issue if you find above cases.\n",
      "\n",
      "\n",
      "XGBoost 预测结果 统计情况\n",
      "min -536.86346\n",
      "max 88642.62\n",
      "ptp 89179.484\n",
      "mean 5831.382\n",
      "std 7196.9087\n",
      "var 51795496.0\n"
     ]
    }
   ],
   "source": [
    "# 全量样本\n",
    "model_xgb2 = build_model_xgb(x_train,y_train)\n",
    "result_xgb = model_xgb2.predict(x_val)\n",
    "print('XGBoost 预测结果 统计情况')\n",
    "show_stats(result_xgb)\n",
    "# 改进点：min是负数，不合理"
   ]
  },
  {
   "cell_type": "code",
   "execution_count": 27,
   "metadata": {},
   "outputs": [
    {
     "name": "stdout",
     "output_type": "stream",
     "text": [
      "[LightGBM] [Warning] Unknown parameter: n_estimator\n",
      "LightGBM Validation MAE: 656.8046698117303\n"
     ]
    }
   ],
   "source": [
    "# LightGBM训练\n",
    "model_lgb = build_model_lgb(x_train,y_train)\n",
    "val_lgb = model_lgb.predict(x_val)\n",
    "MAE_lgb = mean_absolute_error(y_val, val_lgb)\n",
    "print('LightGBM Validation MAE:', MAE_lgb)"
   ]
  },
  {
   "cell_type": "code",
   "execution_count": 28,
   "metadata": {},
   "outputs": [
    {
     "name": "stdout",
     "output_type": "stream",
     "text": [
      "[LightGBM] [Warning] Unknown parameter: n_estimator\n",
      "LightGBM 预测结果 统计情况\n",
      "min -1209.5902586928914\n",
      "max 86057.85071434676\n",
      "ptp 87267.44097303964\n",
      "mean 5834.246021981466\n",
      "std 7216.339508998346\n",
      "var 52075555.909130484\n"
     ]
    }
   ],
   "source": [
    "# 全量样本\n",
    "model_lgb2 = build_model_lgb(x_train,y_train)\n",
    "result_lgb = model_lgb2.predict(x_val)\n",
    "print('LightGBM 预测结果 统计情况')\n",
    "show_stats(result_lgb)\n",
    "# 改进点：min是负数，不合理"
   ]
  },
  {
   "cell_type": "code",
   "execution_count": 816,
   "metadata": {},
   "outputs": [
    {
     "data": {
      "text/plain": [
       "574.3949359012323"
      ]
     },
     "execution_count": 816,
     "metadata": {},
     "output_type": "execute_result"
    }
   ],
   "source": [
    "import matplotlib.pyplot as plt\n",
    "# predict_y = (1-MAE_lgb/(MAE_xgb+MAE_lgb))*result_lgb + (1-MAE_xgb/(MAE_xgb+MAE_lgb))*result_xgb\n",
    "predict_y = (1-MAE_lgb/(MAE_xgb+MAE_lgb))*val_lgb + (1-MAE_xgb/(MAE_xgb+MAE_lgb))*val_xgb\n",
    "# plt.hist(predict_y)\n",
    "mean_absolute_error(y_val, predict_y) "
   ]
  },
  {
   "cell_type": "code",
   "execution_count": null,
   "metadata": {},
   "outputs": [],
   "source": [
    "predict_y "
   ]
  },
  {
   "cell_type": "code",
   "execution_count": null,
   "metadata": {},
   "outputs": [],
   "source": []
  },
  {
   "cell_type": "code",
   "execution_count": null,
   "metadata": {},
   "outputs": [],
   "source": []
  },
  {
   "cell_type": "code",
   "execution_count": null,
   "metadata": {},
   "outputs": [],
   "source": [
    "# # 输出结果\n",
    "# sub = pd.DataFrame()\n",
    "# sub['SaleID'] = test_data.SaleID\n",
    "# sub['price'] = predict_y\n",
    "# sub.to_csv('./anx_xgb.csv',index=False)"
   ]
  },
  {
   "cell_type": "code",
   "execution_count": null,
   "metadata": {},
   "outputs": [],
   "source": [
    "\n",
    "'''\n",
    "Thinking：有哪些提分（减少MAE）的方式？\n",
    "1、时间类型数据(regDate, creatDate)\n",
    "2、模型融合，使用XGBoost,LightGBM\n",
    "3、增加新的特征，对brand进行统计\n",
    "brand_amount, brand_price_max, brand_price_min, brand_price_median, brand_price_sum, brand_price_std, brand_price_mean\n",
    "单模型XGBoost，MAE=1463\n",
    "完善1和2，MAE=587\n",
    "\n",
    "'''\n",
    "# 学习率-网格搜索"
   ]
  },
  {
   "cell_type": "code",
   "execution_count": null,
   "metadata": {},
   "outputs": [],
   "source": []
  }
 ],
 "metadata": {
  "kernelspec": {
   "display_name": "Python 3",
   "language": "python",
   "name": "python3"
  },
  "language_info": {
   "codemirror_mode": {
    "name": "ipython",
    "version": 3
   },
   "file_extension": ".py",
   "mimetype": "text/x-python",
   "name": "python",
   "nbconvert_exporter": "python",
   "pygments_lexer": "ipython3",
   "version": "3.7.9"
  }
 },
 "nbformat": 4,
 "nbformat_minor": 4
}
