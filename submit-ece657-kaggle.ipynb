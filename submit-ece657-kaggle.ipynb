{
 "cells": [
  {
   "cell_type": "code",
   "execution_count": 24,
   "metadata": {
    "colab": {
     "base_uri": "https://localhost:8080/"
    },
    "executionInfo": {
     "elapsed": 483,
     "status": "ok",
     "timestamp": 1754005185243,
     "user": {
      "displayName": "Jack James",
      "userId": "10995127603457421178"
     },
     "user_tz": 240
    },
    "id": "MTREvhTDx4lJ",
    "outputId": "cd2190db-5621-4d07-8830-299a6465c718"
   },
   "outputs": [
    {
     "name": "stdout",
     "output_type": "stream",
     "text": [
      "/content\n",
      "Drive already mounted at /content/drive; to attempt to forcibly remount, call drive.mount(\"/content/drive\", force_remount=True).\n"
     ]
    }
   ],
   "source": [
    "import os\n",
    "print(os.getcwd())\n",
    "# read files on drive\n",
    "from google.colab import drive\n",
    "drive.mount('/content/drive')\n",
    "\n",
    "import sys\n",
    "sys.path.append('/content/drive/MyDrive/ece657/a4')"
   ]
  },
  {
   "cell_type": "code",
   "execution_count": 24,
   "metadata": {
    "executionInfo": {
     "elapsed": 1,
     "status": "ok",
     "timestamp": 1754005185246,
     "user": {
      "displayName": "Jack James",
      "userId": "10995127603457421178"
     },
     "user_tz": 240
    },
    "id": "Ad7jmSvxGJEY"
   },
   "outputs": [],
   "source": []
  },
  {
   "cell_type": "code",
   "execution_count": 25,
   "metadata": {
    "colab": {
     "base_uri": "https://localhost:8080/"
    },
    "executionInfo": {
     "elapsed": 9,
     "status": "ok",
     "timestamp": 1754005185263,
     "user": {
      "displayName": "Jack James",
      "userId": "10995127603457421178"
     },
     "user_tz": 240
    },
    "id": "jR8Exh0xildQ",
    "outputId": "7f5b63b9-6afe-48f9-c27d-2e03f8aad487"
   },
   "outputs": [
    {
     "name": "stdout",
     "output_type": "stream",
     "text": [
      "Python: 3.11.13 (main, Jun  4 2025, 08:57:29) [GCC 11.4.0]\n",
      "Scikit-learn: 1.6.1\n",
      "Pandas: 2.2.2\n",
      "XGBoost: 3.0.2\n"
     ]
    }
   ],
   "source": [
    "# ==============================================================================\n",
    "# ECE 657: Assignment 4 - Stroke Prediction\n",
    "# STUDENT STARTER CODE\n",
    "# ==============================================================================\n",
    "\n",
    "# --- Import Essential Libraries ---\n",
    "import pandas as pd\n",
    "import numpy as np\n",
    "import matplotlib.pyplot as plt\n",
    "import seaborn as sns\n",
    "\n",
    "# --- Preprocessing & Pipeline ---\n",
    "from sklearn.model_selection import cross_val_score, cross_validate, StratifiedKFold, train_test_split\n",
    "from sklearn.preprocessing import StandardScaler,MinMaxScaler, OneHotEncoder, OrdinalEncoder\n",
    "from sklearn.impute import SimpleImputer\n",
    "from sklearn.compose import ColumnTransformer\n",
    "from sklearn.pipeline import Pipeline\n",
    "\n",
    "\n",
    "# --- Machine Learning Models ---\n",
    "from sklearn.tree import DecisionTreeClassifier\n",
    "from sklearn.linear_model import LogisticRegression\n",
    "from sklearn.neighbors import KNeighborsClassifier\n",
    "from sklearn.ensemble import RandomForestClassifier\n",
    "from sklearn.metrics import roc_auc_score\n",
    "import xgboost as xgb\n",
    "from xgboost import XGBClassifier\n",
    "from lightgbm import LGBMClassifier\n",
    "\n",
    "# --- Deep Learning Models ---\n",
    "import tensorflow as tf\n",
    "from tensorflow.keras import layers, Model\n",
    "from tensorflow.keras.optimizers import Adam\n",
    "from tensorflow.keras.callbacks import EarlyStopping\n",
    "from tensorflow.keras import backend as K\n",
    "\n",
    "import sys\n",
    "print(\"Python:\", sys.version)\n",
    "\n",
    "import sklearn\n",
    "print(\"Scikit-learn:\", sklearn.__version__)\n",
    "\n",
    "import pandas as pd\n",
    "print(\"Pandas:\", pd.__version__)\n",
    "\n",
    "import xgboost as xgb\n",
    "print(\"XGBoost:\", xgb.__version__)\n"
   ]
  },
  {
   "cell_type": "code",
   "execution_count": 26,
   "metadata": {
    "colab": {
     "base_uri": "https://localhost:8080/"
    },
    "executionInfo": {
     "elapsed": 40,
     "status": "ok",
     "timestamp": 1754005185304,
     "user": {
      "displayName": "Jack James",
      "userId": "10995127603457421178"
     },
     "user_tz": 240
    },
    "id": "L-lkm3azx2J6",
    "outputId": "7f2f02ae-fb66-4103-bf8d-dd7fa11b6190"
   },
   "outputs": [
    {
     "name": "stdout",
     "output_type": "stream",
     "text": [
      "✅ Libraries imported and initial setup complete.\n",
      "Random State: 42\n",
      "CV Folds: 5\n",
      "\n",
      "Data loaded successfully!\n",
      "Training data shape: (3576, 12)\n",
      "Test data shape: (1533, 11)\n"
     ]
    }
   ],
   "source": [
    "\n",
    "# --- Set up global parameters ---\n",
    "# Set a random seed for reproducibility\n",
    "RANDOM_STATE = 42\n",
    "# Define the cross-validation strategy\n",
    "# Using StratifiedKFold is good practice for imbalanced datasets\n",
    "CV_SPLITS = 5\n",
    "cv = StratifiedKFold(n_splits=CV_SPLITS, shuffle=True, random_state=RANDOM_STATE)\n",
    "\n",
    "# --- Set Plot Style ---\n",
    "sns.set(style=\"whitegrid\", palette=\"pastel\", font_scale=1.1)\n",
    "plt.rcParams['figure.figsize'] = [10, 6]\n",
    "\n",
    "print(\"✅ Libraries imported and initial setup complete.\")\n",
    "print(f\"Random State: {RANDOM_STATE}\")\n",
    "print(f\"CV Folds: {CV_SPLITS}\")\n",
    "\n",
    "# ==============================================================================\n",
    "# Part 0: Load Data\n",
    "# ==============================================================================\n",
    "\n",
    "# TODO: Load train.csv, test.csv, and sample_submission.csv here\n",
    "# HINT: Use a try-except block to catch FileNotFoundError\n",
    "try:\n",
    "    train_df = pd.read_csv(\"/content/drive/MyDrive/ece657/a4/train.csv\")\n",
    "    test_df = pd.read_csv(\"/content/drive/MyDrive/ece657/a4/test.csv\")\n",
    "    sample_submission_df = pd.read_csv(\"/content/drive/MyDrive/ece657/a4/sample_submission.csv\")\n",
    "    print(\"\\nData loaded successfully!\")\n",
    "    print(f\"Training data shape: {train_df.shape}\")\n",
    "    print(f\"Test data shape: {test_df.shape}\")\n",
    "except FileNotFoundError as e:\n",
    "    print(f\"\\n❌ ERROR: {e}. Please ensure all CSV files are in the correct directory.\")\n",
    "    # Create empty dataframes to avoid further errors in the notebook\n",
    "    train_df = pd.DataFrame()\n",
    "    test_df = pd.DataFrame()\n",
    "\n",
    "# Now you can begin with Part A..."
   ]
  },
  {
   "cell_type": "code",
   "execution_count": 27,
   "metadata": {
    "colab": {
     "base_uri": "https://localhost:8080/"
    },
    "executionInfo": {
     "elapsed": 6,
     "status": "ok",
     "timestamp": 1754005185355,
     "user": {
      "displayName": "Jack James",
      "userId": "10995127603457421178"
     },
     "user_tz": 240
    },
    "id": "Ht7-fBedXLwZ",
    "outputId": "7c51749f-855a-4869-f01a-9d94fbd1a8d0"
   },
   "outputs": [
    {
     "name": "stdout",
     "output_type": "stream",
     "text": [
      "      id  gender   age  hypertension  heart_disease ever_married  \\\n",
      "0  45163  Female  47.0             0              0          Yes   \n",
      "1  22330  Female  45.0             0              0          Yes   \n",
      "2  43016    Male  10.0             0              0           No   \n",
      "3  40980    Male  79.0             1              0          Yes   \n",
      "4   1183    Male  39.0             0              0          Yes   \n",
      "\n",
      "       work_type Residence_type  avg_glucose_level   bmi   smoking_status  \\\n",
      "0        Private          Urban              99.36  23.8           smokes   \n",
      "1  Self-employed          Urban              82.94  29.3          Unknown   \n",
      "2       children          Urban              70.70  25.4          Unknown   \n",
      "3  Self-employed          Urban              72.04  23.6  formerly smoked   \n",
      "4        Private          Rural              84.18   NaN           smokes   \n",
      "\n",
      "   stroke  \n",
      "0       0  \n",
      "1       0  \n",
      "2       0  \n",
      "3       0  \n",
      "4       0  \n",
      "                 id          age  hypertension  heart_disease  \\\n",
      "count   3576.000000  3576.000000   3576.000000    3576.000000   \n",
      "mean   36733.582774    43.250604      0.092841       0.056208   \n",
      "std    21183.016182    22.685129      0.290250       0.230355   \n",
      "min       67.000000     0.160000      0.000000       0.000000   \n",
      "25%    17917.750000    25.000000      0.000000       0.000000   \n",
      "50%    36952.000000    45.000000      0.000000       0.000000   \n",
      "75%    54815.250000    61.000000      0.000000       0.000000   \n",
      "max    72940.000000    82.000000      1.000000       1.000000   \n",
      "\n",
      "       avg_glucose_level          bmi       stroke  \n",
      "count        3576.000000  3435.000000  3576.000000  \n",
      "mean          105.468747    28.794469     0.048658  \n",
      "std            44.370947     7.851118     0.215182  \n",
      "min            55.220000    10.300000     0.000000  \n",
      "25%            77.427500    23.500000     0.000000  \n",
      "50%            91.695000    27.900000     0.000000  \n",
      "75%           113.455000    32.900000     0.000000  \n",
      "max           271.740000    92.000000     1.000000  \n"
     ]
    }
   ],
   "source": [
    "print(train_df.head())\n",
    "print(train_df.describe())"
   ]
  },
  {
   "cell_type": "code",
   "execution_count": 28,
   "metadata": {
    "colab": {
     "base_uri": "https://localhost:8080/"
    },
    "executionInfo": {
     "elapsed": 41,
     "status": "ok",
     "timestamp": 1754005185394,
     "user": {
      "displayName": "Jack James",
      "userId": "10995127603457421178"
     },
     "user_tz": 240
    },
    "id": "t9k23HqfWm60",
    "outputId": "3ca34fd2-fc1c-4147-eb2c-adac61bfc024"
   },
   "outputs": [
    {
     "name": "stdout",
     "output_type": "stream",
     "text": [
      "id                     0\n",
      "gender                 0\n",
      "age                    0\n",
      "hypertension           0\n",
      "heart_disease          0\n",
      "ever_married           0\n",
      "work_type              0\n",
      "Residence_type         0\n",
      "avg_glucose_level      0\n",
      "bmi                  141\n",
      "smoking_status         0\n",
      "stroke                 0\n",
      "dtype: int64\n",
      "\n",
      "----missing ratio----\n",
      "bmi    3.94%\n",
      "dtype: object\n",
      "\n",
      "id                     int64\n",
      "gender                object\n",
      "age                  float64\n",
      "hypertension           int64\n",
      "heart_disease          int64\n",
      "ever_married          object\n",
      "work_type             object\n",
      "Residence_type        object\n",
      "avg_glucose_level    float64\n",
      "bmi                  float64\n",
      "smoking_status        object\n",
      "stroke                 int64\n",
      "dtype: object\n"
     ]
    }
   ],
   "source": [
    "print(train_df.isnull().sum())\n",
    "print()\n",
    "print('----missing ratio----')\n",
    "missing_ratio = train_df.isnull().mean() * 100\n",
    "formatted = missing_ratio[missing_ratio > 0].apply(lambda x: f\"{x:.2f}%\")\n",
    "print(formatted)\n",
    "print()\n",
    "\n",
    "print(train_df.dtypes)"
   ]
  },
  {
   "cell_type": "code",
   "execution_count": 29,
   "metadata": {
    "colab": {
     "base_uri": "https://localhost:8080/"
    },
    "executionInfo": {
     "elapsed": 4,
     "status": "ok",
     "timestamp": 1754005185395,
     "user": {
      "displayName": "Jack James",
      "userId": "10995127603457421178"
     },
     "user_tz": 240
    },
    "id": "6lb8kK1wW5Ec",
    "outputId": "fbb51278-1037-4a9e-c4f1-1ecaa979459d"
   },
   "outputs": [
    {
     "name": "stdout",
     "output_type": "stream",
     "text": [
      "['gender', 'ever_married', 'work_type', 'Residence_type', 'smoking_status', 'hypertension', 'heart_disease']\n",
      "gender\n",
      "Female    2092\n",
      "Male      1484\n",
      "Name: count, dtype: int64\n",
      "\n",
      "ever_married\n",
      "Yes    2354\n",
      "No     1222\n",
      "Name: count, dtype: int64\n",
      "\n",
      "work_type\n",
      "Private          2026\n",
      "Self-employed     589\n",
      "children          496\n",
      "Govt_job          450\n",
      "Never_worked       15\n",
      "Name: count, dtype: int64\n",
      "\n",
      "Residence_type\n",
      "Urban    1801\n",
      "Rural    1775\n",
      "Name: count, dtype: int64\n",
      "\n",
      "smoking_status\n",
      "never smoked       1330\n",
      "Unknown            1083\n",
      "formerly smoked     630\n",
      "smokes              533\n",
      "Name: count, dtype: int64\n",
      "\n",
      "hypertension\n",
      "0    3244\n",
      "1     332\n",
      "Name: count, dtype: int64\n",
      "\n",
      "heart_disease\n",
      "0    3375\n",
      "1     201\n",
      "Name: count, dtype: int64\n",
      "\n"
     ]
    }
   ],
   "source": [
    "categorical_features = train_df.select_dtypes(include=['object']).columns.tolist() + ['hypertension','heart_disease']\n",
    "print(categorical_features)\n",
    "for cate_feat in categorical_features:\n",
    "    print(train_df[cate_feat].value_counts())\n",
    "    print()"
   ]
  },
  {
   "cell_type": "code",
   "execution_count": 30,
   "metadata": {
    "colab": {
     "base_uri": "https://localhost:8080/",
     "height": 719
    },
    "executionInfo": {
     "elapsed": 157,
     "status": "ok",
     "timestamp": 1754005185552,
     "user": {
      "displayName": "Jack James",
      "userId": "10995127603457421178"
     },
     "user_tz": 240
    },
    "id": "bINqeTPLX3eD",
    "outputId": "55c716c6-0b5f-43af-ac0b-6ef24c679889"
   },
   "outputs": [
    {
     "name": "stdout",
     "output_type": "stream",
     "text": [
      "stroke\n",
      "0    3402\n",
      "1     174\n",
      "Name: count, dtype: int64\n",
      "stroke\n",
      "0    0.951342\n",
      "1    0.048658\n",
      "Name: proportion, dtype: float64\n"
     ]
    },
    {
     "data": {
      "image/png": "[encoded data removed]",
      "text/plain": [
       "<Figure size 1000x600 with 1 Axes>"
      ]
     },
     "metadata": {},
     "output_type": "display_data"
    }
   ],
   "source": [
    "print(train_df['stroke'].value_counts())\n",
    "print(train_df['stroke'].value_counts(normalize=True))\n",
    "sns.countplot(x='stroke', data=train_df)\n",
    "plt.title('Distribution of Stroke Target Variable')\n",
    "plt.xlabel('Stroke (0 = No, 1 = Yes)')\n",
    "plt.ylabel('Count')\n",
    "plt.show()"
   ]
  },
  {
   "cell_type": "code",
   "execution_count": 31,
   "metadata": {
    "colab": {
     "base_uri": "https://localhost:8080/",
     "height": 423
    },
    "executionInfo": {
     "elapsed": 396,
     "status": "ok",
     "timestamp": 1754005185950,
     "user": {
      "displayName": "Jack James",
      "userId": "10995127603457421178"
     },
     "user_tz": 240
    },
    "id": "7YbnVuF5YAtE",
    "outputId": "80af9baa-bc48-4614-f11e-9a18a8468f53"
   },
   "outputs": [
    {
     "data": {
      "image/png": "[encoded data removed]",
      "text/plain": [
       "<Figure size 1400x500 with 2 Axes>"
      ]
     },
     "metadata": {},
     "output_type": "display_data"
    }
   ],
   "source": [
    "\n",
    "fig, axes = plt.subplots(1, 2, figsize=(14, 5))\n",
    "\n",
    "sns.violinplot(ax=axes[0], data=train_df, x='stroke', y='age')\n",
    "axes[0].set_title('Age Distribution by Stroke Outcome')\n",
    "axes[0].set_xlabel('Stroke (0 = No, 1 = Yes)')\n",
    "axes[0].set_ylabel('Age')\n",
    "\n",
    "sns.boxplot(ax=axes[1], data=train_df, x='stroke', y='avg_glucose_level')\n",
    "axes[1].set_title('Avg Glucose Level by Stroke Outcome')\n",
    "axes[1].set_xlabel('Stroke (0 = No, 1 = Yes)')\n",
    "axes[1].set_ylabel('Average Glucose Level')\n",
    "\n",
    "plt.tight_layout()\n",
    "plt.show()"
   ]
  },
  {
   "cell_type": "code",
   "execution_count": 32,
   "metadata": {
    "colab": {
     "base_uri": "https://localhost:8080/",
     "height": 1000
    },
    "executionInfo": {
     "elapsed": 965,
     "status": "ok",
     "timestamp": 1754005186916,
     "user": {
      "displayName": "Jack James",
      "userId": "10995127603457421178"
     },
     "user_tz": 240
    },
    "id": "o1V0lZ-8YDJy",
    "outputId": "2c3b5cb7-70d6-4358-f4dc-27b4bd3cfea4"
   },
   "outputs": [
    {
     "data": {
      "image/png": "[encoded data removed]",
      "text/plain": [
       "<Figure size 1000x800 with 2 Axes>"
      ]
     },
     "metadata": {},
     "output_type": "display_data"
    },
    {
     "data": {
      "image/png": "[encoded data removed]",
      "text/plain": [
       "<Figure size 600x400 with 1 Axes>"
      ]
     },
     "metadata": {},
     "output_type": "display_data"
    },
    {
     "data": {
      "image/png": "[encoded data removed]",
      "text/plain": [
       "<Figure size 600x400 with 1 Axes>"
      ]
     },
     "metadata": {},
     "output_type": "display_data"
    },
    {
     "data": {
      "image/png": "[encoded data removed]",
      "text/plain": [
       "<Figure size 600x400 with 1 Axes>"
      ]
     },
     "metadata": {},
     "output_type": "display_data"
    }
   ],
   "source": [
    "# relationships b\\w Numerical features\n",
    "numerical_cols = train_df.select_dtypes(include='number').columns.tolist()\n",
    "continuous_features = [col for col in numerical_cols if col not in ['id', 'stroke','hypertension','heart_disease']]\n",
    "\n",
    "corr = train_df[continuous_features].corr()\n",
    "\n",
    "plt.figure(figsize=(10, 8))\n",
    "sns.heatmap(corr, annot=True, fmt=\".2f\", cmap=\"coolwarm\", square=True)\n",
    "plt.title(\"Correlation Heatmap of Continuous Features\")\n",
    "plt.show()\n",
    "\n",
    "# continuous_features distribution\n",
    "for col in continuous_features:\n",
    "    plt.figure(figsize=(6, 4))\n",
    "    sns.histplot(train_df[col], bins=30, kde=True)\n",
    "    plt.title(f\"Distribution of {col}\")\n",
    "    plt.xlabel(col)\n",
    "    plt.ylabel(\"Frequency\")\n",
    "    plt.tight_layout()\n",
    "    plt.show()"
   ]
  },
  {
   "cell_type": "code",
   "execution_count": 32,
   "metadata": {
    "executionInfo": {
     "elapsed": 1,
     "status": "ok",
     "timestamp": 1754005186919,
     "user": {
      "displayName": "Jack James",
      "userId": "10995127603457421178"
     },
     "user_tz": 240
    },
    "id": "XWGQckgZCMzb"
   },
   "outputs": [],
   "source": []
  },
  {
   "cell_type": "code",
   "execution_count": 33,
   "metadata": {
    "colab": {
     "base_uri": "https://localhost:8080/"
    },
    "executionInfo": {
     "elapsed": 12,
     "status": "ok",
     "timestamp": 1754005186931,
     "user": {
      "displayName": "Jack James",
      "userId": "10995127603457421178"
     },
     "user_tz": 240
    },
    "id": "755PpIyWn9Fo",
    "outputId": "2fa90f93-3e63-470d-805e-a86829316f76"
   },
   "outputs": [
    {
     "name": "stdout",
     "output_type": "stream",
     "text": [
      "smoking_status\n",
      "never smoked       1330\n",
      "Unknown            1083\n",
      "formerly smoked     630\n",
      "smokes              533\n",
      "Name: count, dtype: int64\n",
      "\n",
      "smoking_status\n",
      "never smoked       562\n",
      "Unknown            461\n",
      "smokes             256\n",
      "formerly smoked    254\n",
      "Name: count, dtype: int64\n"
     ]
    }
   ],
   "source": [
    "print(train_df['smoking_status'].value_counts())\n",
    "print()\n",
    "print(test_df['smoking_status'].value_counts())\n"
   ]
  },
  {
   "cell_type": "code",
   "execution_count": 34,
   "metadata": {
    "colab": {
     "base_uri": "https://localhost:8080/"
    },
    "executionInfo": {
     "elapsed": 233,
     "status": "ok",
     "timestamp": 1754005187171,
     "user": {
      "displayName": "Jack James",
      "userId": "10995127603457421178"
     },
     "user_tz": 240
    },
    "id": "xEbbm8MiK8ur",
    "outputId": "50620e88-6701-4962-fe00-24ff21683206"
   },
   "outputs": [
    {
     "name": "stdout",
     "output_type": "stream",
     "text": [
      "DT:\n",
      "AUC scores for 5 folds: [0.57650514 0.52872074 0.51418067 0.57132353 0.62153361]\n",
      "Mean AUC: 0.5624527388047729\n",
      "Standard Deviation of AUC: 0.03803879817054011\n"
     ]
    }
   ],
   "source": [
    "# decision tree\n",
    "\n",
    "X = train_df.drop(columns=['id', 'stroke'])\n",
    "y = train_df['stroke']\n",
    "\n",
    "excluded_features = [\n",
    "    # 'smoking_status'\n",
    "                    ]\n",
    "\n",
    "numerical_cols = train_df.select_dtypes(include='number').columns.tolist()\n",
    "categorical_cols = train_df.select_dtypes(include=['object']).columns.tolist()\n",
    "\n",
    "continuous_features = [col for col in numerical_cols if col not in ['id', 'stroke','hypertension','heart_disease'] + excluded_features]\n",
    "categorical_features = [col for col in categorical_cols if col not in excluded_features] + ['hypertension','heart_disease']\n",
    "\n",
    "continuous_transformer = Pipeline(steps=[\n",
    "    ('imputer', SimpleImputer(strategy='mean')),\n",
    "    ('scaler', StandardScaler())\n",
    "])\n",
    "\n",
    "categorical_transformer = Pipeline(steps=[\n",
    "    #('imputer', SimpleImputer(strategy='most_frequent')),\n",
    "    # ('onehot', OneHotEncoder(handle_unknown='ignore')) # don't use onehot\n",
    "    ('cate', OrdinalEncoder(handle_unknown='use_encoded_value', unknown_value=-1))\n",
    "])\n",
    "\n",
    "preprocessor = ColumnTransformer(\n",
    "    transformers=[\n",
    "        ('con', continuous_transformer, continuous_features),\n",
    "        ('cat', categorical_transformer, categorical_features)\n",
    "    ],\n",
    "    remainder='drop'  # don't use other columns including id、stroke\n",
    ")\n",
    "\n",
    "\n",
    "pipeline = Pipeline([\n",
    "    ('preprocessor', preprocessor),\n",
    "    ('classifier', DecisionTreeClassifier(random_state=RANDOM_STATE))\n",
    "])\n",
    "\n",
    "auc_scores = cross_val_score(pipeline, X, y, cv=5, scoring='roc_auc')\n",
    "\n",
    "print(\"DT:\")\n",
    "print(\"AUC scores for 5 folds:\", auc_scores)\n",
    "print(\"Mean AUC:\", auc_scores.mean())\n",
    "print(\"Standard Deviation of AUC:\", auc_scores.std())\n"
   ]
  },
  {
   "cell_type": "code",
   "execution_count": 34,
   "metadata": {
    "executionInfo": {
     "elapsed": 3,
     "status": "ok",
     "timestamp": 1754005187171,
     "user": {
      "displayName": "Jack James",
      "userId": "10995127603457421178"
     },
     "user_tz": 240
    },
    "id": "e-3dI0-0hxY-"
   },
   "outputs": [],
   "source": []
  },
  {
   "cell_type": "code",
   "execution_count": 35,
   "metadata": {
    "colab": {
     "base_uri": "https://localhost:8080/"
    },
    "executionInfo": {
     "elapsed": 8836,
     "status": "ok",
     "timestamp": 1754005196005,
     "user": {
      "displayName": "Jack James",
      "userId": "10995127603457421178"
     },
     "user_tz": 240
    },
    "id": "3GmeS_HCKqLQ",
    "outputId": "a18b5470-0729-4679-8fce-b62b36b65f36"
   },
   "outputs": [
    {
     "name": "stdout",
     "output_type": "stream",
     "text": [
      "== K-Nearest Neighbors ==\n"
     ]
    },
    {
     "name": "stderr",
     "output_type": "stream",
     "text": [
      "/usr/local/lib/python3.11/dist-packages/sklearn/metrics/_classification.py:1565: UndefinedMetricWarning: Precision is ill-defined and being set to 0.0 due to no predicted samples. Use `zero_division` parameter to control this behavior.\n",
      "  _warn_prf(average, modifier, f\"{metric.capitalize()} is\", len(result))\n",
      "/usr/local/lib/python3.11/dist-packages/sklearn/metrics/_classification.py:1565: UndefinedMetricWarning: Precision is ill-defined and being set to 0.0 due to no predicted samples. Use `zero_division` parameter to control this behavior.\n",
      "  _warn_prf(average, modifier, f\"{metric.capitalize()} is\", len(result))\n",
      "/usr/local/lib/python3.11/dist-packages/sklearn/metrics/_classification.py:1565: UndefinedMetricWarning: Precision is ill-defined and being set to 0.0 due to no predicted samples. Use `zero_division` parameter to control this behavior.\n",
      "  _warn_prf(average, modifier, f\"{metric.capitalize()} is\", len(result))\n",
      "/usr/local/lib/python3.11/dist-packages/sklearn/metrics/_classification.py:1565: UndefinedMetricWarning: Precision is ill-defined and being set to 0.0 due to no predicted samples. Use `zero_division` parameter to control this behavior.\n",
      "  _warn_prf(average, modifier, f\"{metric.capitalize()} is\", len(result))\n",
      "/usr/local/lib/python3.11/dist-packages/sklearn/metrics/_classification.py:1565: UndefinedMetricWarning: Precision is ill-defined and being set to 0.0 due to no predicted samples. Use `zero_division` parameter to control this behavior.\n",
      "  _warn_prf(average, modifier, f\"{metric.capitalize()} is\", len(result))\n"
     ]
    },
    {
     "name": "stdout",
     "output_type": "stream",
     "text": [
      "\n",
      "Without Scaling\n",
      "auc = 0.8244 ± 0.0243\n",
      "Accuracy  : [0.95111732 0.95244755 0.95104895 0.95104895 0.95104895]\n",
      "Precision : [0. 0. 0. 0. 0.]\n",
      "Recall    : [0. 0. 0. 0. 0.]\n",
      "F1        : [0. 0. 0. 0. 0.]\n",
      "Roc_auc   : [0.8379484  0.81702945 0.85014706 0.78056723 0.83632353]\n"
     ]
    },
    {
     "name": "stderr",
     "output_type": "stream",
     "text": [
      "/usr/local/lib/python3.11/dist-packages/sklearn/metrics/_classification.py:1565: UndefinedMetricWarning: Precision is ill-defined and being set to 0.0 due to no predicted samples. Use `zero_division` parameter to control this behavior.\n",
      "  _warn_prf(average, modifier, f\"{metric.capitalize()} is\", len(result))\n",
      "/usr/local/lib/python3.11/dist-packages/sklearn/metrics/_classification.py:1565: UndefinedMetricWarning: Precision is ill-defined and being set to 0.0 due to no predicted samples. Use `zero_division` parameter to control this behavior.\n",
      "  _warn_prf(average, modifier, f\"{metric.capitalize()} is\", len(result))\n",
      "/usr/local/lib/python3.11/dist-packages/sklearn/metrics/_classification.py:1565: UndefinedMetricWarning: Precision is ill-defined and being set to 0.0 due to no predicted samples. Use `zero_division` parameter to control this behavior.\n",
      "  _warn_prf(average, modifier, f\"{metric.capitalize()} is\", len(result))\n",
      "/usr/local/lib/python3.11/dist-packages/sklearn/metrics/_classification.py:1565: UndefinedMetricWarning: Precision is ill-defined and being set to 0.0 due to no predicted samples. Use `zero_division` parameter to control this behavior.\n",
      "  _warn_prf(average, modifier, f\"{metric.capitalize()} is\", len(result))\n",
      "/usr/local/lib/python3.11/dist-packages/sklearn/metrics/_classification.py:1565: UndefinedMetricWarning: Precision is ill-defined and being set to 0.0 due to no predicted samples. Use `zero_division` parameter to control this behavior.\n",
      "  _warn_prf(average, modifier, f\"{metric.capitalize()} is\", len(result))\n"
     ]
    },
    {
     "name": "stdout",
     "output_type": "stream",
     "text": [
      "\n",
      "With Scaling\n",
      "auc = 0.8242 ± 0.0277\n",
      "Accuracy  : [0.95111732 0.95244755 0.95104895 0.95104895 0.95104895]\n",
      "Precision : [0. 0. 0. 0. 0.]\n",
      "Recall    : [0. 0. 0. 0. 0.]\n",
      "F1        : [0. 0. 0. 0. 0.]\n",
      "Roc_auc   : [0.81780994 0.83875356 0.83573529 0.77409664 0.85472689]\n",
      "\n",
      "== Logistic Regression ==\n"
     ]
    },
    {
     "name": "stderr",
     "output_type": "stream",
     "text": [
      "/usr/local/lib/python3.11/dist-packages/sklearn/metrics/_classification.py:1565: UndefinedMetricWarning: Precision is ill-defined and being set to 0.0 due to no predicted samples. Use `zero_division` parameter to control this behavior.\n",
      "  _warn_prf(average, modifier, f\"{metric.capitalize()} is\", len(result))\n",
      "/usr/local/lib/python3.11/dist-packages/sklearn/metrics/_classification.py:1565: UndefinedMetricWarning: Precision is ill-defined and being set to 0.0 due to no predicted samples. Use `zero_division` parameter to control this behavior.\n",
      "  _warn_prf(average, modifier, f\"{metric.capitalize()} is\", len(result))\n",
      "/usr/local/lib/python3.11/dist-packages/sklearn/metrics/_classification.py:1565: UndefinedMetricWarning: Precision is ill-defined and being set to 0.0 due to no predicted samples. Use `zero_division` parameter to control this behavior.\n",
      "  _warn_prf(average, modifier, f\"{metric.capitalize()} is\", len(result))\n",
      "/usr/local/lib/python3.11/dist-packages/sklearn/metrics/_classification.py:1565: UndefinedMetricWarning: Precision is ill-defined and being set to 0.0 due to no predicted samples. Use `zero_division` parameter to control this behavior.\n",
      "  _warn_prf(average, modifier, f\"{metric.capitalize()} is\", len(result))\n",
      "/usr/local/lib/python3.11/dist-packages/sklearn/metrics/_classification.py:1565: UndefinedMetricWarning: Precision is ill-defined and being set to 0.0 due to no predicted samples. Use `zero_division` parameter to control this behavior.\n",
      "  _warn_prf(average, modifier, f\"{metric.capitalize()} is\", len(result))\n",
      "/usr/local/lib/python3.11/dist-packages/sklearn/metrics/_classification.py:1565: UndefinedMetricWarning: Precision is ill-defined and being set to 0.0 due to no predicted samples. Use `zero_division` parameter to control this behavior.\n",
      "  _warn_prf(average, modifier, f\"{metric.capitalize()} is\", len(result))\n"
     ]
    },
    {
     "name": "stdout",
     "output_type": "stream",
     "text": [
      "\n",
      "Without Scaling\n",
      "auc = 0.8354 ± 0.0237\n",
      "Accuracy  : [0.95111732 0.95244755 0.94825175 0.95104895 0.95104895]\n",
      "Precision : [0. 0. 0. 0. 0.]\n",
      "Recall    : [0. 0. 0. 0. 0.]\n",
      "F1        : [0. 0. 0. 0. 0.]\n",
      "Roc_auc   : [0.85441578 0.84266218 0.83638655 0.78995798 0.85344538]\n",
      "\n",
      "With Scaling\n",
      "auc = 0.8352 ± 0.0238\n",
      "Accuracy  : [0.95111732 0.95244755 0.94825175 0.95104895 0.95104895]\n",
      "Precision : [0. 0. 0. 0. 0.]\n",
      "Recall    : [0. 0. 0. 0. 0.]\n",
      "F1        : [0. 0. 0. 0. 0.]\n",
      "Roc_auc   : [0.85403818 0.84253261 0.83588235 0.78970588 0.85369748]\n"
     ]
    },
    {
     "name": "stderr",
     "output_type": "stream",
     "text": [
      "/usr/local/lib/python3.11/dist-packages/sklearn/metrics/_classification.py:1565: UndefinedMetricWarning: Precision is ill-defined and being set to 0.0 due to no predicted samples. Use `zero_division` parameter to control this behavior.\n",
      "  _warn_prf(average, modifier, f\"{metric.capitalize()} is\", len(result))\n",
      "/usr/local/lib/python3.11/dist-packages/sklearn/metrics/_classification.py:1565: UndefinedMetricWarning: Precision is ill-defined and being set to 0.0 due to no predicted samples. Use `zero_division` parameter to control this behavior.\n",
      "  _warn_prf(average, modifier, f\"{metric.capitalize()} is\", len(result))\n"
     ]
    }
   ],
   "source": [
    "# KNN LR\n",
    "\n",
    "X = train_df.drop(columns=['id', 'stroke'])\n",
    "y = train_df['stroke']\n",
    "\n",
    "excluded_features = [\n",
    "    # 'smoking_status'\n",
    "                    ]\n",
    "\n",
    "numerical_cols = train_df.select_dtypes(include='number').columns.tolist()\n",
    "categorical_cols = train_df.select_dtypes(include=['object']).columns.tolist()\n",
    "\n",
    "continuous_features = [col for col in numerical_cols if col not in ['id', 'stroke','hypertension','heart_disease'] + excluded_features]\n",
    "categorical_features = [col for col in categorical_cols if col not in excluded_features] + ['hypertension','heart_disease']\n",
    "\n",
    "\n",
    "# --- categorical features ---\n",
    "categorical_transformer = Pipeline([\n",
    "    ('onehot', OneHotEncoder(handle_unknown='ignore'))\n",
    "])\n",
    "\n",
    "# --- no scaling ---\n",
    "continuous_noscale = Pipeline([\n",
    "    ('imputer', SimpleImputer(strategy='mean'))\n",
    "])\n",
    "\n",
    "preprocessor_noscale = ColumnTransformer([\n",
    "    ('con', continuous_noscale, continuous_features),\n",
    "    ('cat', categorical_transformer, categorical_features)\n",
    "])\n",
    "\n",
    "# --- scaling ---\n",
    "continuous_scaled = Pipeline([\n",
    "    ('imputer', SimpleImputer(strategy='mean')),\n",
    "    ('scaler', StandardScaler())\n",
    "])\n",
    "\n",
    "preprocessor_scaled = ColumnTransformer([\n",
    "    ('con', continuous_scaled, continuous_features),\n",
    "    ('cat', categorical_transformer, categorical_features)\n",
    "])\n",
    "\n",
    "# --- evalute model ---\n",
    "scoring = {\n",
    "    'accuracy': 'accuracy',\n",
    "    'precision': 'precision',\n",
    "    'recall': 'recall',\n",
    "    'f1': 'f1',\n",
    "    'roc_auc': 'roc_auc'\n",
    "}\n",
    "\n",
    "def evaluate_model(model, preprocessor, name=''):\n",
    "    pipe = Pipeline([\n",
    "        ('preprocessor', preprocessor),\n",
    "        ('model', model)\n",
    "    ])\n",
    "\n",
    "    cv = StratifiedKFold(n_splits=5, shuffle=True, random_state=42)\n",
    "    results = cross_validate(pipe, X, y, cv=cv, scoring=scoring, return_train_score=False)\n",
    "\n",
    "    print(f\"\\n{name}\")\n",
    "    print(f\"auc = {results['test_roc_auc'].mean():.4f} ± {results['test_roc_auc'].std():.4f}\")\n",
    "    for metric in scoring.keys():\n",
    "        scores = results[f'test_{metric}']\n",
    "        print(f\"{metric.capitalize():<10}: {scores}\")\n",
    "\n",
    "# --- compare different models with or without scaling ---\n",
    "print(\"== K-Nearest Neighbors ==\")\n",
    "evaluate_model(KNeighborsClassifier(n_neighbors=500), preprocessor_noscale, 'Without Scaling')\n",
    "evaluate_model(KNeighborsClassifier(n_neighbors=500), preprocessor_scaled, 'With Scaling')\n",
    "\n",
    "print(\"\\n== Logistic Regression ==\")\n",
    "evaluate_model(LogisticRegression(max_iter=1000), preprocessor_noscale, 'Without Scaling')\n",
    "evaluate_model(LogisticRegression(max_iter=1000), preprocessor_scaled, 'With Scaling')\n"
   ]
  },
  {
   "cell_type": "code",
   "execution_count": 36,
   "metadata": {
    "executionInfo": {
     "elapsed": 89,
     "status": "ok",
     "timestamp": 1754005196112,
     "user": {
      "displayName": "Jack James",
      "userId": "10995127603457421178"
     },
     "user_tz": 240
    },
    "id": "UOnVwYZMLLMl"
   },
   "outputs": [],
   "source": [
    "# LR\n",
    "lr_pipeline = Pipeline([\n",
    "    ('preprocessor', preprocessor_scaled),\n",
    "    ('model', LogisticRegression(max_iter=1000))\n",
    "])\n",
    "\n",
    "\n",
    "lr_pipeline.fit(X, y)\n",
    "X_test = test_df.drop(columns=['id'])\n",
    "y_pred_proba_lr = lr_pipeline.predict_proba(X_test)[:, 1]  # only get prob(y = 1)"
   ]
  },
  {
   "cell_type": "code",
   "execution_count": 37,
   "metadata": {
    "executionInfo": {
     "elapsed": 363,
     "status": "ok",
     "timestamp": 1754005196473,
     "user": {
      "displayName": "Jack James",
      "userId": "10995127603457421178"
     },
     "user_tz": 240
    },
    "id": "F9Ty5xxyKElf"
   },
   "outputs": [],
   "source": [
    "# knn\n",
    "knn_pipeline = Pipeline([\n",
    "    ('preprocessor', preprocessor_scaled),\n",
    "    ('model', KNeighborsClassifier(n_neighbors=500))\n",
    "])\n",
    "\n",
    "knn_pipeline.fit(X, y)\n",
    "X_test = test_df.drop(columns=['id'])\n",
    "y_pred_proba_knn = knn_pipeline.predict_proba(X_test)[:, 1]  # only get prob(y = 1)"
   ]
  },
  {
   "cell_type": "code",
   "execution_count": 38,
   "metadata": {
    "colab": {
     "base_uri": "https://localhost:8080/"
    },
    "executionInfo": {
     "elapsed": 1362,
     "status": "ok",
     "timestamp": 1754005197836,
     "user": {
      "displayName": "Jack James",
      "userId": "10995127603457421178"
     },
     "user_tz": 240
    },
    "id": "zeaifSzlLLW8",
    "outputId": "de14e8b8-610c-48a6-c5ae-2f7ae5904a92"
   },
   "outputs": [
    {
     "name": "stdout",
     "output_type": "stream",
     "text": [
      "XGBoost AUC: 0.8408 ± 0.0193\n",
      "XGBoost AUC on each fold: [0.85580029 0.84095621 0.86334034 0.80737395 0.83651261]\n"
     ]
    }
   ],
   "source": [
    "# xgboost\n",
    "# === split different types of features ===\n",
    "X = train_df.drop(columns=['id', 'stroke'])\n",
    "y = train_df['stroke']\n",
    "\n",
    "excluded_features = [\n",
    "    # 'smoking_status'\n",
    "                    ]\n",
    "\n",
    "numerical_cols = train_df.select_dtypes(include='number').columns.tolist()\n",
    "categorical_cols = train_df.select_dtypes(include=['object']).columns.tolist()\n",
    "\n",
    "continuous_features = [col for col in numerical_cols if col not in ['id', 'stroke','hypertension','heart_disease'] + excluded_features]\n",
    "categorical_features = [col for col in categorical_cols if col not in excluded_features] + ['hypertension','heart_disease']\n",
    "\n",
    "# === preprocessor ===\n",
    "continuous_pipeline = Pipeline([\n",
    "    ('imputer', SimpleImputer(strategy='mean')),\n",
    "    # ('scaler', StandardScaler())  # can be changed to MinMaxScaler()\n",
    "])\n",
    "\n",
    "categorical_pipeline = Pipeline([\n",
    "    ('imputer', SimpleImputer(strategy='most_frequent')),\n",
    "    ('cate', OrdinalEncoder(handle_unknown='use_encoded_value', unknown_value=-1))\n",
    "])\n",
    "\n",
    "preprocessor = ColumnTransformer([\n",
    "    ('num', continuous_pipeline, continuous_features),\n",
    "    ('cat', categorical_pipeline, categorical_features)\n",
    "])\n",
    "\n",
    "# === build XGBoost pipeline ===\n",
    "xgb_model = Pipeline([\n",
    "    ('preprocessor', preprocessor),\n",
    "    ('classifier', XGBClassifier(\n",
    "        n_estimators=500,\n",
    "        learning_rate=0.01,\n",
    "        max_depth=4,\n",
    "        eval_metric='logloss',\n",
    "        random_state=42\n",
    "    ))\n",
    "])\n",
    "\n",
    "\n",
    "cv = StratifiedKFold(n_splits=5, shuffle=True, random_state=42)\n",
    "scores = cross_val_score(xgb_model, X, y, cv=cv, scoring='roc_auc')\n",
    "\n",
    "print(f\"XGBoost AUC: {scores.mean():.4f} ± {scores.std():.4f}\")\n",
    "print(\"XGBoost AUC on each fold:\", scores)"
   ]
  },
  {
   "cell_type": "code",
   "execution_count": 39,
   "metadata": {
    "executionInfo": {
     "elapsed": 282,
     "status": "ok",
     "timestamp": 1754005198119,
     "user": {
      "displayName": "Jack James",
      "userId": "10995127603457421178"
     },
     "user_tz": 240
    },
    "id": "X8GIIOC7JOFV"
   },
   "outputs": [],
   "source": [
    "# xgb trained all data for submission\n",
    "xgb_model = Pipeline([\n",
    "    ('preprocessor', preprocessor),\n",
    "    ('classifier', XGBClassifier(\n",
    "        n_estimators=500,\n",
    "        learning_rate=0.01,\n",
    "        max_depth=4,\n",
    "        eval_metric='logloss',\n",
    "        random_state=42\n",
    "    ))\n",
    "])\n",
    "\n",
    "xgb_model.fit(X, y)\n",
    "X_test = test_df.drop(columns=['id'])\n",
    "y_pred_proba_xgb = xgb_model.predict_proba(X_test)[:, 1]  # only get prob(y = 1)\n"
   ]
  },
  {
   "cell_type": "code",
   "execution_count": 40,
   "metadata": {
    "colab": {
     "base_uri": "https://localhost:8080/"
    },
    "executionInfo": {
     "elapsed": 1350,
     "status": "ok",
     "timestamp": 1754005199471,
     "user": {
      "displayName": "Jack James",
      "userId": "10995127603457421178"
     },
     "user_tz": 240
    },
    "id": "EWGOVUwwoz6o",
    "outputId": "98696b8e-2135-4875-dc9f-12e4fd68a313"
   },
   "outputs": [
    {
     "name": "stderr",
     "output_type": "stream",
     "text": [
      "/usr/local/lib/python3.11/dist-packages/sklearn/utils/validation.py:2739: UserWarning: X does not have valid feature names, but LGBMClassifier was fitted with feature names\n",
      "  warnings.warn(\n",
      "/usr/local/lib/python3.11/dist-packages/sklearn/utils/validation.py:2739: UserWarning: X does not have valid feature names, but LGBMClassifier was fitted with feature names\n",
      "  warnings.warn(\n",
      "/usr/local/lib/python3.11/dist-packages/sklearn/utils/validation.py:2739: UserWarning: X does not have valid feature names, but LGBMClassifier was fitted with feature names\n",
      "  warnings.warn(\n",
      "/usr/local/lib/python3.11/dist-packages/sklearn/utils/validation.py:2739: UserWarning: X does not have valid feature names, but LGBMClassifier was fitted with feature names\n",
      "  warnings.warn(\n"
     ]
    },
    {
     "name": "stdout",
     "output_type": "stream",
     "text": [
      "✅ LightGBM AUC: 0.8378 ± 0.0140\n",
      "LightGBM AUC on each fold: [0.84631844 0.82866891 0.85968487 0.81968487 0.83441176]\n"
     ]
    },
    {
     "name": "stderr",
     "output_type": "stream",
     "text": [
      "/usr/local/lib/python3.11/dist-packages/sklearn/utils/validation.py:2739: UserWarning: X does not have valid feature names, but LGBMClassifier was fitted with feature names\n",
      "  warnings.warn(\n"
     ]
    }
   ],
   "source": [
    "# lightgbm\n",
    "# === split different types of features ===\n",
    "X = train_df.drop(columns=['id', 'stroke'])\n",
    "y = train_df['stroke']\n",
    "\n",
    "excluded_features = []\n",
    "\n",
    "numerical_cols = train_df.select_dtypes(include='number').columns.tolist()\n",
    "categorical_cols = train_df.select_dtypes(include=['object']).columns.tolist()\n",
    "\n",
    "continuous_features = [col for col in numerical_cols if col not in ['id', 'stroke', 'hypertension', 'heart_disease'] + excluded_features]\n",
    "categorical_features = [col for col in categorical_cols if col not in excluded_features] + ['hypertension', 'heart_disease']\n",
    "\n",
    "# === preprocessor ===\n",
    "continuous_pipeline = Pipeline([\n",
    "    ('imputer', SimpleImputer(strategy='mean'))\n",
    "])\n",
    "\n",
    "categorical_pipeline = Pipeline([\n",
    "    ('imputer', SimpleImputer(strategy='most_frequent')),\n",
    "    ('cate', OrdinalEncoder(handle_unknown='use_encoded_value', unknown_value=-1))\n",
    "])\n",
    "\n",
    "preprocessor = ColumnTransformer([\n",
    "    ('num', continuous_pipeline, continuous_features),\n",
    "    ('cat', categorical_pipeline, categorical_features)\n",
    "])\n",
    "\n",
    "# === LightGBM pipeline ===\n",
    "lgb_model = Pipeline([\n",
    "    ('preprocessor', preprocessor),\n",
    "    ('classifier', LGBMClassifier(\n",
    "        n_estimators=500,\n",
    "        learning_rate=0.01,\n",
    "        max_depth=4,\n",
    "        random_state=42,\n",
    "        verbose=-1\n",
    "    ))\n",
    "])\n",
    "\n",
    "# === 5fold cross validation ===\n",
    "cv = StratifiedKFold(n_splits=5, shuffle=True, random_state=42)\n",
    "scores = cross_val_score(lgb_model, X, y, cv=cv, scoring='roc_auc')\n",
    "\n",
    "print(f\"✅ LightGBM AUC: {scores.mean():.4f} ± {scores.std():.4f}\")\n",
    "print(\"LightGBM AUC on each fold:\", scores)"
   ]
  },
  {
   "cell_type": "code",
   "execution_count": 41,
   "metadata": {
    "colab": {
     "base_uri": "https://localhost:8080/"
    },
    "executionInfo": {
     "elapsed": 312,
     "status": "ok",
     "timestamp": 1754005199784,
     "user": {
      "displayName": "Jack James",
      "userId": "10995127603457421178"
     },
     "user_tz": 240
    },
    "id": "g3gCbC9IozxI",
    "outputId": "a5a00892-3d32-4f5b-9444-8a77cd4fc14d"
   },
   "outputs": [
    {
     "name": "stderr",
     "output_type": "stream",
     "text": [
      "/usr/local/lib/python3.11/dist-packages/sklearn/utils/validation.py:2739: UserWarning: X does not have valid feature names, but LGBMClassifier was fitted with feature names\n",
      "  warnings.warn(\n"
     ]
    }
   ],
   "source": [
    "# lgb trained all data for submission\n",
    "lgb_model = Pipeline([\n",
    "    ('preprocessor', preprocessor),\n",
    "    ('classifier', LGBMClassifier(\n",
    "        n_estimators=500,\n",
    "        learning_rate=0.01,\n",
    "        max_depth=4,\n",
    "        random_state=42,\n",
    "        verbose=-1\n",
    "    ))\n",
    "])\n",
    "\n",
    "lgb_model.fit(X, y)\n",
    "X_test = test_df.drop(columns=['id'])\n",
    "y_pred_proba_lgb = lgb_model.predict_proba(X_test)[:, 1]  # only get prob(y = 1)"
   ]
  },
  {
   "cell_type": "code",
   "execution_count": 41,
   "metadata": {
    "executionInfo": {
     "elapsed": 10,
     "status": "ok",
     "timestamp": 1754005199796,
     "user": {
      "displayName": "Jack James",
      "userId": "10995127603457421178"
     },
     "user_tz": 240
    },
    "id": "BQcju0vhozm1"
   },
   "outputs": [],
   "source": []
  },
  {
   "cell_type": "code",
   "execution_count": 41,
   "metadata": {
    "executionInfo": {
     "elapsed": 10,
     "status": "ok",
     "timestamp": 1754005199812,
     "user": {
      "displayName": "Jack James",
      "userId": "10995127603457421178"
     },
     "user_tz": 240
    },
    "id": "xq_02VzHozcu"
   },
   "outputs": [],
   "source": []
  },
  {
   "cell_type": "code",
   "execution_count": 41,
   "metadata": {
    "executionInfo": {
     "elapsed": 6,
     "status": "ok",
     "timestamp": 1754005199820,
     "user": {
      "displayName": "Jack James",
      "userId": "10995127603457421178"
     },
     "user_tz": 240
    },
    "id": "QqQwcInLK4id"
   },
   "outputs": [],
   "source": []
  },
  {
   "cell_type": "code",
   "execution_count": 42,
   "metadata": {
    "colab": {
     "base_uri": "https://localhost:8080/",
     "height": 35
    },
    "executionInfo": {
     "elapsed": 41,
     "status": "ok",
     "timestamp": 1754005199862,
     "user": {
      "displayName": "Jack James",
      "userId": "10995127603457421178"
     },
     "user_tz": 240
    },
    "id": "in5NIWUW3Rzk",
    "outputId": "0edd2f23-694f-403c-c7fd-2cb81ef4edab"
   },
   "outputs": [
    {
     "name": "stdout",
     "output_type": "stream",
     "text": [
      "✅ Saved 'submission.csv' with predicted probabilities.\n"
     ]
    },
    {
     "data": {
      "application/javascript": "\n    async function download(id, filename, size) {\n      if (!google.colab.kernel.accessAllowed) {\n        return;\n      }\n      const div = document.createElement('div');\n      const label = document.createElement('label');\n      label.textContent = `Downloading \"${filename}\": `;\n      div.appendChild(label);\n      const progress = document.createElement('progress');\n      progress.max = size;\n      div.appendChild(progress);\n      document.body.appendChild(div);\n\n      const buffers = [];\n      let downloaded = 0;\n\n      const channel = await google.colab.kernel.comms.open(id);\n      // Send a message to notify the kernel that we're ready.\n      channel.send({})\n\n      for await (const message of channel.messages) {\n        // Send a message to notify the kernel that we're ready.\n        channel.send({})\n        if (message.buffers) {\n          for (const buffer of message.buffers) {\n            buffers.push(buffer);\n            downloaded += buffer.byteLength;\n            progress.value = downloaded;\n          }\n        }\n      }\n      const blob = new Blob(buffers, {type: 'application/binary'});\n      const a = document.createElement('a');\n      a.href = window.URL.createObjectURL(blob);\n      a.download = filename;\n      div.appendChild(a);\n      a.click();\n      div.remove();\n    }\n  ",
      "text/plain": [
       "<IPython.core.display.Javascript object>"
      ]
     },
     "metadata": {},
     "output_type": "display_data"
    },
    {
     "data": {
      "application/javascript": "download(\"download_7c2621b9-9937-44a1-84fc-040cec11b32d\", \"submission.csv\", 40574)",
      "text/plain": [
       "<IPython.core.display.Javascript object>"
      ]
     },
     "metadata": {},
     "output_type": "display_data"
    }
   ],
   "source": [
    "\n",
    "# submit\n",
    "probas = [\n",
    "    y_pred_proba_knn.flatten(),\n",
    "    y_pred_proba_lr.flatten(),\n",
    "    # y_pred_proba_xgb.flatten(),\n",
    "    # y_pred_proba_lgb.flatten(),\n",
    "]\n",
    "\n",
    "\n",
    "y_pred_proba_ensemble = np.mean(probas, axis=0)\n",
    "\n",
    "# === generate submission file ===\n",
    "submission = pd.DataFrame({\n",
    "    'id': test_df['id'],\n",
    "    'stroke': y_pred_proba_ensemble\n",
    "})\n",
    "submission.to_csv('submission.csv', index=False)\n",
    "print(\"✅ Saved 'submission.csv' with predicted probabilities.\")\n",
    "\n",
    "# === save to local computer ===\n",
    "from google.colab import files\n",
    "files.download('submission.csv')\n"
   ]
  },
  {
   "cell_type": "code",
   "execution_count": 42,
   "metadata": {
    "executionInfo": {
     "elapsed": 4,
     "status": "ok",
     "timestamp": 1754005199863,
     "user": {
      "displayName": "Jack James",
      "userId": "10995127603457421178"
     },
     "user_tz": 240
    },
    "id": "XbxQMhiz3S7B"
   },
   "outputs": [],
   "source": []
  },
  {
   "cell_type": "code",
   "execution_count": 42,
   "metadata": {
    "executionInfo": {
     "elapsed": 2,
     "status": "ok",
     "timestamp": 1754005199863,
     "user": {
      "displayName": "Jack James",
      "userId": "10995127603457421178"
     },
     "user_tz": 240
    },
    "id": "iDmnjJ3DBd6S"
   },
   "outputs": [],
   "source": []
  },
  {
   "cell_type": "markdown",
   "metadata": {
    "id": "6dccuthB4zKO"
   },
   "source": [
    "# Final Report\n",
    "I experimented with logistic regression, KNN, decision trees, XGBoost, LightGBM. I designed preprocessing pipelines using ColumnTransformer and Pipeline, handled missing values, and used different encoding strategies to properly represent categorical features: in tree model, I use categorical encoding; in logistic regression and KNN, I use one-hot encoding.\n",
    "\n",
    "Among all models, decision tree has lowest auc in 5-fold cv and thus I did not submit it in kaggle; logistic regression, knn and xgboost got 0.85400, 0.84825 and 0.84503 respectively in kaggle. I used ensemble techniques to further improve predictions and **averaging of logistic regression and knn outputs performed best (0.86026)** on the leaderboard.\n",
    "\n",
    "### Other related work (but fail to get higher scores):\n",
    "\n",
    "(1) fill 'unknown' in the smoking_status feature with random forest\n",
    "\n",
    "(2) find better model hyperparameters in LR and KNN with GridSearchCV\n",
    "\n",
    "(3) different DNN models\n",
    "\n"
   ]
  },
  {
   "cell_type": "code",
   "execution_count": 42,
   "metadata": {
    "executionInfo": {
     "elapsed": 44,
     "status": "ok",
     "timestamp": 1754005199908,
     "user": {
      "displayName": "Jack James",
      "userId": "10995127603457421178"
     },
     "user_tz": 240
    },
    "id": "VrgWG2raCO-j"
   },
   "outputs": [],
   "source": []
  },
  {
   "cell_type": "code",
   "execution_count": 42,
   "metadata": {
    "executionInfo": {
     "elapsed": 1,
     "status": "ok",
     "timestamp": 1754005199910,
     "user": {
      "displayName": "Jack James",
      "userId": "10995127603457421178"
     },
     "user_tz": 240
    },
    "id": "pmjK8OVGxZ61"
   },
   "outputs": [],
   "source": []
  },
  {
   "cell_type": "code",
   "execution_count": 42,
   "metadata": {
    "executionInfo": {
     "elapsed": 1,
     "status": "ok",
     "timestamp": 1754005199911,
     "user": {
      "displayName": "Jack James",
      "userId": "10995127603457421178"
     },
     "user_tz": 240
    },
    "id": "g9aM0ND9xZ4y"
   },
   "outputs": [],
   "source": []
  },
  {
   "cell_type": "code",
   "execution_count": 42,
   "metadata": {
    "executionInfo": {
     "elapsed": 0,
     "status": "ok",
     "timestamp": 1754005199911,
     "user": {
      "displayName": "Jack James",
      "userId": "10995127603457421178"
     },
     "user_tz": 240
    },
    "id": "J4__7enwxZ2r"
   },
   "outputs": [],
   "source": []
  },
  {
   "cell_type": "code",
   "execution_count": 42,
   "metadata": {
    "executionInfo": {
     "elapsed": 0,
     "status": "ok",
     "timestamp": 1754005199912,
     "user": {
      "displayName": "Jack James",
      "userId": "10995127603457421178"
     },
     "user_tz": 240
    },
    "id": "3u_iksYaxZ0y"
   },
   "outputs": [],
   "source": []
  },
  {
   "cell_type": "code",
   "execution_count": 42,
   "metadata": {
    "executionInfo": {
     "elapsed": 0,
     "status": "ok",
     "timestamp": 1754005199912,
     "user": {
      "displayName": "Jack James",
      "userId": "10995127603457421178"
     },
     "user_tz": 240
    },
    "id": "pyxlfNF_xZyk"
   },
   "outputs": [],
   "source": []
  },
  {
   "cell_type": "code",
   "execution_count": 42,
   "metadata": {
    "executionInfo": {
     "elapsed": 0,
     "status": "ok",
     "timestamp": 1754005199913,
     "user": {
      "displayName": "Jack James",
      "userId": "10995127603457421178"
     },
     "user_tz": 240
    },
    "id": "IkFkEazwxZvU"
   },
   "outputs": [],
   "source": []
  },
  {
   "cell_type": "code",
   "execution_count": 42,
   "metadata": {
    "executionInfo": {
     "elapsed": 1,
     "status": "ok",
     "timestamp": 1754005199914,
     "user": {
      "displayName": "Jack James",
      "userId": "10995127603457421178"
     },
     "user_tz": 240
    },
    "id": "vOfWsOYDxZoD"
   },
   "outputs": [],
   "source": []
  },
  {
   "cell_type": "code",
   "execution_count": 42,
   "metadata": {
    "executionInfo": {
     "elapsed": 7,
     "status": "ok",
     "timestamp": 1754005199921,
     "user": {
      "displayName": "Jack James",
      "userId": "10995127603457421178"
     },
     "user_tz": 240
    },
    "id": "iBLsQj-6xZfT"
   },
   "outputs": [],
   "source": []
  },
  {
   "cell_type": "code",
   "execution_count": 42,
   "metadata": {
    "executionInfo": {
     "elapsed": 34,
     "status": "ok",
     "timestamp": 1754005199954,
     "user": {
      "displayName": "Jack James",
      "userId": "10995127603457421178"
     },
     "user_tz": 240
    },
    "id": "GTAewUyVxXtf"
   },
   "outputs": [],
   "source": []
  },
  {
   "cell_type": "code",
   "execution_count": 42,
   "metadata": {
    "executionInfo": {
     "elapsed": 2,
     "status": "ok",
     "timestamp": 1754005199956,
     "user": {
      "displayName": "Jack James",
      "userId": "10995127603457421178"
     },
     "user_tz": 240
    },
    "id": "uvAiAzadLIfq"
   },
   "outputs": [],
   "source": []
  },
  {
   "cell_type": "code",
   "execution_count": 42,
   "metadata": {
    "collapsed": true,
    "executionInfo": {
     "elapsed": 1,
     "status": "ok",
     "timestamp": 1754005199956,
     "user": {
      "displayName": "Jack James",
      "userId": "10995127603457421178"
     },
     "user_tz": 240
    },
    "id": "K-F5taM2Lr1n"
   },
   "outputs": [],
   "source": []
  },
  {
   "cell_type": "code",
   "execution_count": 42,
   "metadata": {
    "executionInfo": {
     "elapsed": 0,
     "status": "ok",
     "timestamp": 1754005199961,
     "user": {
      "displayName": "Jack James",
      "userId": "10995127603457421178"
     },
     "user_tz": 240
    },
    "id": "9Xxx10piOChN"
   },
   "outputs": [],
   "source": []
  },
  {
   "cell_type": "code",
   "execution_count": 42,
   "metadata": {
    "executionInfo": {
     "elapsed": 0,
     "status": "ok",
     "timestamp": 1754005199962,
     "user": {
      "displayName": "Jack James",
      "userId": "10995127603457421178"
     },
     "user_tz": 240
    },
    "id": "cQ58cgYYOKo-"
   },
   "outputs": [],
   "source": []
  },
  {
   "cell_type": "code",
   "execution_count": 42,
   "metadata": {
    "executionInfo": {
     "elapsed": 1,
     "status": "ok",
     "timestamp": 1754005199963,
     "user": {
      "displayName": "Jack James",
      "userId": "10995127603457421178"
     },
     "user_tz": 240
    },
    "id": "R5cH8wBsOQO7"
   },
   "outputs": [],
   "source": []
  },
  {
   "cell_type": "code",
   "execution_count": 42,
   "metadata": {
    "executionInfo": {
     "elapsed": 0,
     "status": "ok",
     "timestamp": 1754005199963,
     "user": {
      "displayName": "Jack James",
      "userId": "10995127603457421178"
     },
     "user_tz": 240
    },
    "id": "pZbxkb_qOwIp"
   },
   "outputs": [],
   "source": []
  }
 ],
 "metadata": {
  "colab": {
   "provenance": []
  },
  "kernelspec": {
   "display_name": "Python 3",
   "name": "python3"
  },
  "language_info": {
   "name": "python"
  }
 },
 "nbformat": 4,
 "nbformat_minor": 0
}
